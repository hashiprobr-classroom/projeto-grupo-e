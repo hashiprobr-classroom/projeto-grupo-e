{
 "cells": [
  {
   "cell_type": "markdown",
   "metadata": {},
   "source": [
    "## Projeto 1 - "
   ]
  },
  {
   "cell_type": "code",
   "execution_count": 11,
   "metadata": {
    "execution": {
     "iopub.execute_input": "2025-03-25T23:33:26.710399Z",
     "iopub.status.busy": "2025-03-25T23:33:26.710304Z",
     "iopub.status.idle": "2025-03-25T23:33:27.452846Z",
     "shell.execute_reply": "2025-03-25T23:33:27.452186Z",
     "shell.execute_reply.started": "2025-03-25T23:33:26.710390Z"
    }
   },
   "outputs": [],
   "source": [
    "# !pip install --upgrade pip"
   ]
  },
  {
   "cell_type": "code",
   "execution_count": 1,
   "metadata": {
    "execution": {
     "iopub.execute_input": "2025-03-25T23:33:27.454051Z",
     "iopub.status.busy": "2025-03-25T23:33:27.453820Z",
     "iopub.status.idle": "2025-03-25T23:33:27.457463Z",
     "shell.execute_reply": "2025-03-25T23:33:27.456961Z",
     "shell.execute_reply.started": "2025-03-25T23:33:27.454029Z"
    }
   },
   "outputs": [],
   "source": [
    "# !pip install pandas\n",
    "# # !pip install csv\n",
    "# !pip install git+https://github.com/hashiprobr/netpixi.git\n",
    "# !pip install graph-tool-extras"
   ]
  },
  {
   "cell_type": "code",
   "execution_count": 2,
   "metadata": {
    "execution": {
     "iopub.execute_input": "2025-03-25T23:33:27.458298Z",
     "iopub.status.busy": "2025-03-25T23:33:27.458048Z",
     "iopub.status.idle": "2025-03-25T23:33:28.845305Z",
     "shell.execute_reply": "2025-03-25T23:33:28.844966Z",
     "shell.execute_reply.started": "2025-03-25T23:33:27.458280Z"
    }
   },
   "outputs": [
    {
     "name": "stderr",
     "output_type": "stream",
     "text": [
      "/usr/lib/python3/dist-packages/pytz/__init__.py:31: SyntaxWarning: invalid escape sequence '\\s'\n",
      "  match = re.match(\"^#\\s*version\\s*([0-9a-z]*)\\s*$\", line)\n"
     ]
    },
    {
     "ename": "ModuleNotFoundError",
     "evalue": "No module named 'netpixi'",
     "output_type": "error",
     "traceback": [
      "\u001b[0;31m---------------------------------------------------------------------------\u001b[0m",
      "\u001b[0;31mModuleNotFoundError\u001b[0m                       Traceback (most recent call last)",
      "Cell \u001b[0;32mIn[2], line 4\u001b[0m\n\u001b[1;32m      2\u001b[0m \u001b[38;5;28;01mimport\u001b[39;00m\u001b[38;5;250m \u001b[39m\u001b[38;5;21;01mpandas\u001b[39;00m\u001b[38;5;250m \u001b[39m\u001b[38;5;28;01mas\u001b[39;00m\u001b[38;5;250m \u001b[39m\u001b[38;5;21;01mpd\u001b[39;00m\n\u001b[1;32m      3\u001b[0m \u001b[38;5;28;01mimport\u001b[39;00m\u001b[38;5;250m \u001b[39m\u001b[38;5;21;01mcsv\u001b[39;00m\n\u001b[0;32m----> 4\u001b[0m \u001b[38;5;28;01mimport\u001b[39;00m\u001b[38;5;250m \u001b[39m\u001b[38;5;21;01mnetpixi\u001b[39;00m\n\u001b[1;32m      5\u001b[0m \u001b[38;5;28;01mimport\u001b[39;00m\u001b[38;5;250m \u001b[39m\u001b[38;5;21;01mnumpy\u001b[39;00m\u001b[38;5;250m \u001b[39m\u001b[38;5;28;01mas\u001b[39;00m\u001b[38;5;250m \u001b[39m\u001b[38;5;21;01mnp\u001b[39;00m\n\u001b[1;32m      7\u001b[0m \u001b[38;5;28;01mimport\u001b[39;00m\u001b[38;5;250m \u001b[39m\u001b[38;5;21;01mgraph_tool_extras\u001b[39;00m\u001b[38;5;250m \u001b[39m\u001b[38;5;28;01mas\u001b[39;00m\u001b[38;5;250m \u001b[39m\u001b[38;5;21;01mgte\u001b[39;00m\n",
      "\u001b[0;31mModuleNotFoundError\u001b[0m: No module named 'netpixi'"
     ]
    }
   ],
   "source": [
    "# import graph_tool_extras as gte\n",
    "import pandas as pd\n",
    "import csv\n",
    "import netpixi\n",
    "import numpy as np\n",
    "\n",
    "import graph_tool_extras as gte\n",
    "from graph_tool import draw"
   ]
  },
  {
   "cell_type": "code",
   "execution_count": null,
   "metadata": {
    "execution": {
     "iopub.execute_input": "2025-03-25T23:33:28.845897Z",
     "iopub.status.busy": "2025-03-25T23:33:28.845655Z",
     "iopub.status.idle": "2025-03-25T23:33:28.971416Z",
     "shell.execute_reply": "2025-03-25T23:33:28.971104Z",
     "shell.execute_reply.started": "2025-03-25T23:33:28.845882Z"
    }
   },
   "outputs": [
    {
     "data": {
      "text/html": [
       "<div>\n",
       "<style scoped>\n",
       "    .dataframe tbody tr th:only-of-type {\n",
       "        vertical-align: middle;\n",
       "    }\n",
       "\n",
       "    .dataframe tbody tr th {\n",
       "        vertical-align: top;\n",
       "    }\n",
       "\n",
       "    .dataframe thead th {\n",
       "        text-align: right;\n",
       "    }\n",
       "</style>\n",
       "<table border=\"1\" class=\"dataframe\">\n",
       "  <thead>\n",
       "    <tr style=\"text-align: right;\">\n",
       "      <th></th>\n",
       "      <th>names</th>\n",
       "      <th>date_x</th>\n",
       "      <th>score</th>\n",
       "      <th>genre</th>\n",
       "      <th>overview</th>\n",
       "      <th>crew</th>\n",
       "      <th>orig_title</th>\n",
       "      <th>status</th>\n",
       "      <th>orig_lang</th>\n",
       "      <th>budget_x</th>\n",
       "      <th>revenue</th>\n",
       "      <th>country</th>\n",
       "    </tr>\n",
       "  </thead>\n",
       "  <tbody>\n",
       "    <tr>\n",
       "      <th>0</th>\n",
       "      <td>Creed III</td>\n",
       "      <td>03/02/2023</td>\n",
       "      <td>73.0</td>\n",
       "      <td>Drama, Action</td>\n",
       "      <td>After dominating the boxing world, Adonis Cree...</td>\n",
       "      <td>Michael B. Jordan, Adonis Creed, Tessa Thompso...</td>\n",
       "      <td>Creed III</td>\n",
       "      <td>Released</td>\n",
       "      <td>English</td>\n",
       "      <td>75000000.0</td>\n",
       "      <td>2.716167e+08</td>\n",
       "      <td>AU</td>\n",
       "    </tr>\n",
       "    <tr>\n",
       "      <th>1</th>\n",
       "      <td>Avatar: The Way of Water</td>\n",
       "      <td>12/15/2022</td>\n",
       "      <td>78.0</td>\n",
       "      <td>Science Fiction, Adventure, Action</td>\n",
       "      <td>Set more than a decade after the events of the...</td>\n",
       "      <td>Sam Worthington, Jake Sully, Zoe Saldaña, Neyt...</td>\n",
       "      <td>Avatar: The Way of Water</td>\n",
       "      <td>Released</td>\n",
       "      <td>English</td>\n",
       "      <td>460000000.0</td>\n",
       "      <td>2.316795e+09</td>\n",
       "      <td>AU</td>\n",
       "    </tr>\n",
       "    <tr>\n",
       "      <th>2</th>\n",
       "      <td>The Super Mario Bros. Movie</td>\n",
       "      <td>04/05/2023</td>\n",
       "      <td>76.0</td>\n",
       "      <td>Animation, Adventure, Family, Fantasy, Comedy</td>\n",
       "      <td>While working underground to fix a water main,...</td>\n",
       "      <td>Chris Pratt, Mario (voice), Anya Taylor-Joy, P...</td>\n",
       "      <td>The Super Mario Bros. Movie</td>\n",
       "      <td>Released</td>\n",
       "      <td>English</td>\n",
       "      <td>100000000.0</td>\n",
       "      <td>7.244590e+08</td>\n",
       "      <td>AU</td>\n",
       "    </tr>\n",
       "    <tr>\n",
       "      <th>3</th>\n",
       "      <td>Mummies</td>\n",
       "      <td>01/05/2023</td>\n",
       "      <td>70.0</td>\n",
       "      <td>Animation, Comedy, Family, Adventure, Fantasy</td>\n",
       "      <td>Through a series of unfortunate events, three ...</td>\n",
       "      <td>Óscar Barberán, Thut (voice), Ana Esther Albor...</td>\n",
       "      <td>Momias</td>\n",
       "      <td>Released</td>\n",
       "      <td>Spanish, Castilian</td>\n",
       "      <td>12300000.0</td>\n",
       "      <td>3.420000e+07</td>\n",
       "      <td>AU</td>\n",
       "    </tr>\n",
       "    <tr>\n",
       "      <th>4</th>\n",
       "      <td>Supercell</td>\n",
       "      <td>03/17/2023</td>\n",
       "      <td>61.0</td>\n",
       "      <td>Action</td>\n",
       "      <td>Good-hearted teenager William always lived in ...</td>\n",
       "      <td>Skeet Ulrich, Roy Cameron, Anne Heche, Dr Quin...</td>\n",
       "      <td>Supercell</td>\n",
       "      <td>Released</td>\n",
       "      <td>English</td>\n",
       "      <td>77000000.0</td>\n",
       "      <td>3.409420e+08</td>\n",
       "      <td>US</td>\n",
       "    </tr>\n",
       "  </tbody>\n",
       "</table>\n",
       "</div>"
      ],
      "text/plain": [
       "                         names       date_x  score  \\\n",
       "0                    Creed III  03/02/2023    73.0   \n",
       "1     Avatar: The Way of Water  12/15/2022    78.0   \n",
       "2  The Super Mario Bros. Movie  04/05/2023    76.0   \n",
       "3                      Mummies  01/05/2023    70.0   \n",
       "4                    Supercell  03/17/2023    61.0   \n",
       "\n",
       "                                           genre  \\\n",
       "0                                  Drama, Action   \n",
       "1             Science Fiction, Adventure, Action   \n",
       "2  Animation, Adventure, Family, Fantasy, Comedy   \n",
       "3  Animation, Comedy, Family, Adventure, Fantasy   \n",
       "4                                         Action   \n",
       "\n",
       "                                            overview  \\\n",
       "0  After dominating the boxing world, Adonis Cree...   \n",
       "1  Set more than a decade after the events of the...   \n",
       "2  While working underground to fix a water main,...   \n",
       "3  Through a series of unfortunate events, three ...   \n",
       "4  Good-hearted teenager William always lived in ...   \n",
       "\n",
       "                                                crew  \\\n",
       "0  Michael B. Jordan, Adonis Creed, Tessa Thompso...   \n",
       "1  Sam Worthington, Jake Sully, Zoe Saldaña, Neyt...   \n",
       "2  Chris Pratt, Mario (voice), Anya Taylor-Joy, P...   \n",
       "3  Óscar Barberán, Thut (voice), Ana Esther Albor...   \n",
       "4  Skeet Ulrich, Roy Cameron, Anne Heche, Dr Quin...   \n",
       "\n",
       "                    orig_title     status            orig_lang     budget_x  \\\n",
       "0                    Creed III   Released              English   75000000.0   \n",
       "1     Avatar: The Way of Water   Released              English  460000000.0   \n",
       "2  The Super Mario Bros. Movie   Released              English  100000000.0   \n",
       "3                       Momias   Released   Spanish, Castilian   12300000.0   \n",
       "4                    Supercell   Released              English   77000000.0   \n",
       "\n",
       "        revenue country  \n",
       "0  2.716167e+08      AU  \n",
       "1  2.316795e+09      AU  \n",
       "2  7.244590e+08      AU  \n",
       "3  3.420000e+07      AU  \n",
       "4  3.409420e+08      US  "
      ]
     },
     "execution_count": 2,
     "metadata": {},
     "output_type": "execute_result"
    }
   ],
   "source": [
    "df = pd.read_csv('csv/imdb_movies.csv')\n",
    "df.head()"
   ]
  },
  {
   "cell_type": "code",
   "execution_count": 3,
   "metadata": {
    "execution": {
     "iopub.execute_input": "2025-03-25T23:33:28.971866Z",
     "iopub.status.busy": "2025-03-25T23:33:28.971762Z",
     "iopub.status.idle": "2025-03-25T23:33:28.988339Z",
     "shell.execute_reply": "2025-03-25T23:33:28.987998Z",
     "shell.execute_reply.started": "2025-03-25T23:33:28.971857Z"
    }
   },
   "outputs": [
    {
     "ename": "NameError",
     "evalue": "name 'df' is not defined",
     "output_type": "error",
     "traceback": [
      "\u001b[0;31m---------------------------------------------------------------------------\u001b[0m",
      "\u001b[0;31mNameError\u001b[0m                                 Traceback (most recent call last)",
      "Cell \u001b[0;32mIn[3], line 1\u001b[0m\n\u001b[0;32m----> 1\u001b[0m df[\u001b[38;5;124m'\u001b[39m\u001b[38;5;124mdate_x\u001b[39m\u001b[38;5;124m'\u001b[39m] \u001b[38;5;241m=\u001b[39m \u001b[43mdf\u001b[49m[\u001b[38;5;124m'\u001b[39m\u001b[38;5;124mdate_x\u001b[39m\u001b[38;5;124m'\u001b[39m]\u001b[38;5;241m.\u001b[39mstr\u001b[38;5;241m.\u001b[39mstrip()\u001b[38;5;241m.\u001b[39mreplace(\u001b[38;5;124m'\u001b[39m\u001b[38;5;124m'\u001b[39m, pd\u001b[38;5;241m.\u001b[39mNA)\n\u001b[1;32m      2\u001b[0m df \u001b[38;5;241m=\u001b[39m df\u001b[38;5;241m.\u001b[39mdropna(subset\u001b[38;5;241m=\u001b[39m[\u001b[38;5;124m'\u001b[39m\u001b[38;5;124mdate_x\u001b[39m\u001b[38;5;124m'\u001b[39m])\n\u001b[1;32m      3\u001b[0m df[\u001b[38;5;124m'\u001b[39m\u001b[38;5;124mdate_x\u001b[39m\u001b[38;5;124m'\u001b[39m] \u001b[38;5;241m=\u001b[39m pd\u001b[38;5;241m.\u001b[39mto_datetime(df[\u001b[38;5;124m'\u001b[39m\u001b[38;5;124mdate_x\u001b[39m\u001b[38;5;124m'\u001b[39m], \u001b[38;5;28mformat\u001b[39m\u001b[38;5;241m=\u001b[39m\u001b[38;5;124m'\u001b[39m\u001b[38;5;124m%\u001b[39m\u001b[38;5;124mm/\u001b[39m\u001b[38;5;132;01m%d\u001b[39;00m\u001b[38;5;124m/\u001b[39m\u001b[38;5;124m%\u001b[39m\u001b[38;5;124mY\u001b[39m\u001b[38;5;124m'\u001b[39m, errors\u001b[38;5;241m=\u001b[39m\u001b[38;5;124m'\u001b[39m\u001b[38;5;124mcoerce\u001b[39m\u001b[38;5;124m'\u001b[39m)\n",
      "\u001b[0;31mNameError\u001b[0m: name 'df' is not defined"
     ]
    }
   ],
   "source": [
    "df['date_x'] = df['date_x'].str.strip().replace('', pd.NA)\n",
    "df = df.dropna(subset=['date_x'])\n",
    "df['date_x'] = pd.to_datetime(df['date_x'], format='%m/%d/%Y', errors='coerce')"
   ]
  },
  {
   "cell_type": "code",
   "execution_count": 4,
   "metadata": {
    "execution": {
     "iopub.execute_input": "2025-03-25T23:33:28.989276Z",
     "iopub.status.busy": "2025-03-25T23:33:28.989181Z",
     "iopub.status.idle": "2025-03-25T23:33:28.993524Z",
     "shell.execute_reply": "2025-03-25T23:33:28.993073Z",
     "shell.execute_reply.started": "2025-03-25T23:33:28.989268Z"
    }
   },
   "outputs": [
    {
     "ename": "NameError",
     "evalue": "name 'df' is not defined",
     "output_type": "error",
     "traceback": [
      "\u001b[0;31m---------------------------------------------------------------------------\u001b[0m",
      "\u001b[0;31mNameError\u001b[0m                                 Traceback (most recent call last)",
      "Cell \u001b[0;32mIn[4], line 1\u001b[0m\n\u001b[0;32m----> 1\u001b[0m \u001b[43mdf\u001b[49m\u001b[38;5;241m.\u001b[39mdtypes\n",
      "\u001b[0;31mNameError\u001b[0m: name 'df' is not defined"
     ]
    }
   ],
   "source": [
    "df.dtypes"
   ]
  },
  {
   "cell_type": "code",
   "execution_count": 5,
   "metadata": {
    "execution": {
     "iopub.execute_input": "2025-03-25T23:33:28.993994Z",
     "iopub.status.busy": "2025-03-25T23:33:28.993908Z",
     "iopub.status.idle": "2025-03-25T23:33:29.241425Z",
     "shell.execute_reply": "2025-03-25T23:33:29.241049Z",
     "shell.execute_reply.started": "2025-03-25T23:33:28.993986Z"
    }
   },
   "outputs": [
    {
     "ename": "NameError",
     "evalue": "name 'df' is not defined",
     "output_type": "error",
     "traceback": [
      "\u001b[0;31m---------------------------------------------------------------------------\u001b[0m",
      "\u001b[0;31mNameError\u001b[0m                                 Traceback (most recent call last)",
      "Cell \u001b[0;32mIn[5], line 5\u001b[0m\n\u001b[1;32m      2\u001b[0m df_recente \u001b[38;5;241m=\u001b[39m pd\u001b[38;5;241m.\u001b[39mDataFrame()\n\u001b[1;32m      4\u001b[0m \u001b[38;5;66;03m# Pega linhas com ano DEPOIS de 2020 e nota MAIOR ou IGUAl a 70.0\u001b[39;00m\n\u001b[0;32m----> 5\u001b[0m \u001b[38;5;28;01mfor\u001b[39;00m idx, row \u001b[38;5;129;01min\u001b[39;00m \u001b[43mdf\u001b[49m\u001b[38;5;241m.\u001b[39miterrows():\n\u001b[1;32m      6\u001b[0m     ano \u001b[38;5;241m=\u001b[39m row[\u001b[38;5;124m'\u001b[39m\u001b[38;5;124mdate_x\u001b[39m\u001b[38;5;124m'\u001b[39m]\u001b[38;5;241m.\u001b[39myear\n\u001b[1;32m      7\u001b[0m     score \u001b[38;5;241m=\u001b[39m row[\u001b[38;5;124m'\u001b[39m\u001b[38;5;124mscore\u001b[39m\u001b[38;5;124m'\u001b[39m]\n",
      "\u001b[0;31mNameError\u001b[0m: name 'df' is not defined"
     ]
    }
   ],
   "source": [
    "# df_filtered = df[df['date_x'].dt.year > 2020]\n",
    "df_recente = pd.DataFrame()\n",
    "\n",
    "# Pega linhas com ano DEPOIS de 2020 e nota MAIOR ou IGUAl a 70.0\n",
    "for idx, row in df.iterrows():\n",
    "    ano = row['date_x'].year\n",
    "    score = row['score']\n",
    "    # print(score > 70)\n",
    "    if ano >= 2020 and score > 70.0:\n",
    "        # print('   Entrou mesmo assim')\n",
    "        df_recente = pd.concat([df_recente, row.to_frame().T], ignore_index=True)\n",
    "\n",
    "# Apaga as linhas com valores NaN\n",
    "df_recente.dropna(subset='names')\n",
    "df_recente.head()"
   ]
  },
  {
   "cell_type": "code",
   "execution_count": 6,
   "metadata": {
    "execution": {
     "iopub.execute_input": "2025-03-25T23:33:29.242108Z",
     "iopub.status.busy": "2025-03-25T23:33:29.241862Z",
     "iopub.status.idle": "2025-03-25T23:33:29.250310Z",
     "shell.execute_reply": "2025-03-25T23:33:29.250013Z",
     "shell.execute_reply.started": "2025-03-25T23:33:29.242097Z"
    }
   },
   "outputs": [
    {
     "data": {
      "text/html": [
       "<div>\n",
       "<style scoped>\n",
       "    .dataframe tbody tr th:only-of-type {\n",
       "        vertical-align: middle;\n",
       "    }\n",
       "\n",
       "    .dataframe tbody tr th {\n",
       "        vertical-align: top;\n",
       "    }\n",
       "\n",
       "    .dataframe thead th {\n",
       "        text-align: right;\n",
       "    }\n",
       "</style>\n",
       "<table border=\"1\" class=\"dataframe\">\n",
       "  <thead>\n",
       "    <tr style=\"text-align: right;\">\n",
       "      <th></th>\n",
       "    </tr>\n",
       "  </thead>\n",
       "  <tbody>\n",
       "  </tbody>\n",
       "</table>\n",
       "</div>"
      ],
      "text/plain": [
       "Empty DataFrame\n",
       "Columns: []\n",
       "Index: []"
      ]
     },
     "execution_count": 6,
     "metadata": {},
     "output_type": "execute_result"
    }
   ],
   "source": [
    "df_recente.head()\n",
    "\n",
    "# Deleta duplicados (GRRRRRR)\n",
    "df_recente.drop_duplicates(subset=['names'])"
   ]
  },
  {
   "cell_type": "code",
   "execution_count": 7,
   "metadata": {
    "execution": {
     "iopub.execute_input": "2025-03-25T23:33:29.250715Z",
     "iopub.status.busy": "2025-03-25T23:33:29.250615Z",
     "iopub.status.idle": "2025-03-25T23:33:29.255395Z",
     "shell.execute_reply": "2025-03-25T23:33:29.255022Z",
     "shell.execute_reply.started": "2025-03-25T23:33:29.250707Z"
    }
   },
   "outputs": [
    {
     "name": "stdout",
     "output_type": "stream",
     "text": [
      "Empty DataFrame\n",
      "Columns: []\n",
      "Index: []\n"
     ]
    }
   ],
   "source": [
    "df_recente.drop_duplicates(subset='names', inplace=True)\n",
    "print(df_recente[df_recente.duplicated(subset='names', keep=False)])"
   ]
  },
  {
   "cell_type": "markdown",
   "metadata": {},
   "source": [
    "## Criando o Grafo"
   ]
  },
  {
   "cell_type": "code",
   "execution_count": 8,
   "metadata": {
    "execution": {
     "iopub.execute_input": "2025-03-25T23:33:29.256137Z",
     "iopub.status.busy": "2025-03-25T23:33:29.256047Z",
     "iopub.status.idle": "2025-03-25T23:33:29.259439Z",
     "shell.execute_reply": "2025-03-25T23:33:29.259158Z",
     "shell.execute_reply.started": "2025-03-25T23:33:29.256128Z"
    }
   },
   "outputs": [
    {
     "ename": "NameError",
     "evalue": "name 'gte' is not defined",
     "output_type": "error",
     "traceback": [
      "\u001b[0;31m---------------------------------------------------------------------------\u001b[0m",
      "\u001b[0;31mNameError\u001b[0m                                 Traceback (most recent call last)",
      "Cell \u001b[0;32mIn[8], line 2\u001b[0m\n\u001b[1;32m      1\u001b[0m \u001b[38;5;66;03m# Peguei essa logica da Aula 3, qualquer coisa da uma olhada\u001b[39;00m\n\u001b[0;32m----> 2\u001b[0m g \u001b[38;5;241m=\u001b[39m \u001b[43mgte\u001b[49m\u001b[38;5;241m.\u001b[39mGraph(directed\u001b[38;5;241m=\u001b[39m\u001b[38;5;28;01mFalse\u001b[39;00m) \u001b[38;5;66;03m# igual a gte.Graph(), pois directed é falso por padrão\u001b[39;00m\n\u001b[1;32m      4\u001b[0m g\u001b[38;5;241m.\u001b[39madd_vp(\u001b[38;5;124m'\u001b[39m\u001b[38;5;124mcolor\u001b[39m\u001b[38;5;124m'\u001b[39m)\n",
      "\u001b[0;31mNameError\u001b[0m: name 'gte' is not defined"
     ]
    }
   ],
   "source": [
    "# Peguei essa logica da Aula 3, qualquer coisa da uma olhada\n",
    "g = gte.Graph(directed=False) # igual a gte.Graph(), pois directed é falso por padrão\n",
    "\n",
    "g.add_vp('color')"
   ]
  },
  {
   "cell_type": "code",
   "execution_count": 9,
   "metadata": {
    "execution": {
     "iopub.execute_input": "2025-03-25T23:33:29.259908Z",
     "iopub.status.busy": "2025-03-25T23:33:29.259792Z",
     "iopub.status.idle": "2025-03-25T23:33:29.268280Z",
     "shell.execute_reply": "2025-03-25T23:33:29.268016Z",
     "shell.execute_reply.started": "2025-03-25T23:33:29.259900Z"
    }
   },
   "outputs": [
    {
     "ename": "KeyError",
     "evalue": "'names'",
     "output_type": "error",
     "traceback": [
      "\u001b[0;31m---------------------------------------------------------------------------\u001b[0m",
      "\u001b[0;31mKeyError\u001b[0m                                  Traceback (most recent call last)",
      "Cell \u001b[0;32mIn[9], line 2\u001b[0m\n\u001b[1;32m      1\u001b[0m filmes \u001b[38;5;241m=\u001b[39m []\n\u001b[0;32m----> 2\u001b[0m \u001b[38;5;28;01mfor\u001b[39;00m nome \u001b[38;5;129;01min\u001b[39;00m \u001b[43mdf_recente\u001b[49m\u001b[43m[\u001b[49m\u001b[38;5;124;43m'\u001b[39;49m\u001b[38;5;124;43mnames\u001b[39;49m\u001b[38;5;124;43m'\u001b[39;49m\u001b[43m]\u001b[49m:\n\u001b[1;32m      3\u001b[0m     f \u001b[38;5;241m=\u001b[39m g\u001b[38;5;241m.\u001b[39madd_vertex_by_id(nome)\n\u001b[1;32m      4\u001b[0m     f[\u001b[38;5;124m'\u001b[39m\u001b[38;5;124mcolor\u001b[39m\u001b[38;5;124m'\u001b[39m] \u001b[38;5;241m=\u001b[39m \u001b[38;5;241m0xfffff0\u001b[39m\n",
      "File \u001b[0;32m~/.local/lib/python3.12/site-packages/pandas/core/frame.py:4102\u001b[0m, in \u001b[0;36mDataFrame.__getitem__\u001b[0;34m(self, key)\u001b[0m\n\u001b[1;32m   4100\u001b[0m \u001b[38;5;28;01mif\u001b[39;00m \u001b[38;5;28mself\u001b[39m\u001b[38;5;241m.\u001b[39mcolumns\u001b[38;5;241m.\u001b[39mnlevels \u001b[38;5;241m>\u001b[39m \u001b[38;5;241m1\u001b[39m:\n\u001b[1;32m   4101\u001b[0m     \u001b[38;5;28;01mreturn\u001b[39;00m \u001b[38;5;28mself\u001b[39m\u001b[38;5;241m.\u001b[39m_getitem_multilevel(key)\n\u001b[0;32m-> 4102\u001b[0m indexer \u001b[38;5;241m=\u001b[39m \u001b[38;5;28;43mself\u001b[39;49m\u001b[38;5;241;43m.\u001b[39;49m\u001b[43mcolumns\u001b[49m\u001b[38;5;241;43m.\u001b[39;49m\u001b[43mget_loc\u001b[49m\u001b[43m(\u001b[49m\u001b[43mkey\u001b[49m\u001b[43m)\u001b[49m\n\u001b[1;32m   4103\u001b[0m \u001b[38;5;28;01mif\u001b[39;00m is_integer(indexer):\n\u001b[1;32m   4104\u001b[0m     indexer \u001b[38;5;241m=\u001b[39m [indexer]\n",
      "File \u001b[0;32m~/.local/lib/python3.12/site-packages/pandas/core/indexes/range.py:417\u001b[0m, in \u001b[0;36mRangeIndex.get_loc\u001b[0;34m(self, key)\u001b[0m\n\u001b[1;32m    415\u001b[0m         \u001b[38;5;28;01mraise\u001b[39;00m \u001b[38;5;167;01mKeyError\u001b[39;00m(key) \u001b[38;5;28;01mfrom\u001b[39;00m\u001b[38;5;250m \u001b[39m\u001b[38;5;21;01merr\u001b[39;00m\n\u001b[1;32m    416\u001b[0m \u001b[38;5;28;01mif\u001b[39;00m \u001b[38;5;28misinstance\u001b[39m(key, Hashable):\n\u001b[0;32m--> 417\u001b[0m     \u001b[38;5;28;01mraise\u001b[39;00m \u001b[38;5;167;01mKeyError\u001b[39;00m(key)\n\u001b[1;32m    418\u001b[0m \u001b[38;5;28mself\u001b[39m\u001b[38;5;241m.\u001b[39m_check_indexing_error(key)\n\u001b[1;32m    419\u001b[0m \u001b[38;5;28;01mraise\u001b[39;00m \u001b[38;5;167;01mKeyError\u001b[39;00m(key)\n",
      "\u001b[0;31mKeyError\u001b[0m: 'names'"
     ]
    }
   ],
   "source": [
    "filmes = []\n",
    "for nome in df_recente['names']:\n",
    "    f = g.add_vertex_by_id(nome)\n",
    "    f['color'] = 0xfffff0\n",
    "    filmes.append(f)"
   ]
  },
  {
   "cell_type": "code",
   "execution_count": null,
   "metadata": {
    "execution": {
     "iopub.execute_input": "2025-03-25T23:33:29.268615Z",
     "iopub.status.busy": "2025-03-25T23:33:29.268539Z",
     "iopub.status.idle": "2025-03-25T23:33:29.271407Z",
     "shell.execute_reply": "2025-03-25T23:33:29.271051Z",
     "shell.execute_reply.started": "2025-03-25T23:33:29.268607Z"
    }
   },
   "outputs": [],
   "source": [
    "# pos = gte.layout_bipartite(g, v_tipo)\n",
    "\n",
    "# graph_draw(g, pos=pos, vertex_text=v_tipo, output_size=(400, 400), output=\"rede_bipartida.png\")"
   ]
  },
  {
   "cell_type": "code",
   "execution_count": null,
   "metadata": {
    "execution": {
     "iopub.execute_input": "2025-03-25T23:33:29.271900Z",
     "iopub.status.busy": "2025-03-25T23:33:29.271790Z",
     "iopub.status.idle": "2025-03-25T23:33:29.283320Z",
     "shell.execute_reply": "2025-03-25T23:33:29.282995Z",
     "shell.execute_reply.started": "2025-03-25T23:33:29.271892Z"
    }
   },
   "outputs": [],
   "source": [
    "# Criando o vertice de generos. Antes de fazer isso temos q separar os generos de cada filme, por exemplo: em um filme q tenha Drama, Action como generos, \n",
    "# temos q criar uma lista com os dois separados\n",
    "generos = set()\n",
    "genero = []\n",
    "for genre in df_recente['genre']:\n",
    "    w = g.vertex_by_id(genre)\n",
    "    # print([genre])\n",
    "    for ga in genre.split(','):\n",
    "        g_limpo = ga.strip()\n",
    "        genero.append(g_limpo)\n",
    "    generos.update(genero)\n",
    "\n",
    "lista_generos = sorted(list(generos))\n",
    "\n",
    "mat_zerada = np.zeros((len(lista_generos), len(lista_generos)))\n",
    "matriz_gen = pd.DataFrame(mat_zerada, columns=lista_generos, index=lista_generos)"
   ]
  },
  {
   "cell_type": "code",
   "execution_count": null,
   "metadata": {
    "execution": {
     "iopub.execute_input": "2025-03-25T23:33:29.283708Z",
     "iopub.status.busy": "2025-03-25T23:33:29.283625Z",
     "iopub.status.idle": "2025-03-25T23:33:29.286143Z",
     "shell.execute_reply": "2025-03-25T23:33:29.285906Z",
     "shell.execute_reply.started": "2025-03-25T23:33:29.283699Z"
    }
   },
   "outputs": [],
   "source": [
    "from pprint import pprint"
   ]
  },
  {
   "cell_type": "code",
   "execution_count": null,
   "metadata": {
    "execution": {
     "iopub.execute_input": "2025-03-25T23:33:59.358477Z",
     "iopub.status.busy": "2025-03-25T23:33:59.357264Z",
     "iopub.status.idle": "2025-03-25T23:33:59.374481Z",
     "shell.execute_reply": "2025-03-25T23:33:59.374021Z",
     "shell.execute_reply.started": "2025-03-25T23:33:59.358442Z"
    }
   },
   "outputs": [
    {
     "name": "stdout",
     "output_type": "stream",
     "text": [
      "Media [%] por categoria: \n",
      "{'Action': 5.555555555555555,\n",
      " 'Adventure': 5.554444444444443,\n",
      " 'Animation': 5.556111111111111,\n",
      " 'Comedy': 5.555555555555555,\n",
      " 'Crime': 5.556666666666668,\n",
      " 'Documentary': 5.554999999999999,\n",
      " 'Drama': 5.555555555555556,\n",
      " 'Family': 5.554999999999999,\n",
      " 'Fantasy': 5.555555555555555,\n",
      " 'History': 5.556111111111109,\n",
      " 'Horror': 5.555000000000001,\n",
      " 'Music': 5.555555555555555,\n",
      " 'Mystery': 5.555000000000001,\n",
      " 'Romance': 5.557222222222221,\n",
      " 'Science Fiction': 5.555,\n",
      " 'TV Movie': 5.555555555555555,\n",
      " 'Thriller': 5.553888888888889,\n",
      " 'War': 5.556111111111112,\n",
      " 'Western': 5.5572222222222205}\n"
     ]
    },
    {
     "data": {
      "text/plain": [
       "19"
      ]
     },
     "execution_count": 28,
     "metadata": {},
     "output_type": "execute_result"
    }
   ],
   "source": [
    "# Cria dicionario para salvar ocorrencias\n",
    "conexoes_gen = {}\n",
    "for g_prim in generos:\n",
    "    conexoes_gen[g_prim] = { 'Total' : 0}\n",
    "    for g_sec in generos:\n",
    "        if g_sec != g_prim:\n",
    "            conexoes_gen[g_prim][g_sec] = 0\n",
    "            # print('Criou')\n",
    "# pprint(conexoes_gen)\n",
    "# Ocorrencias de apararecer juntas\n",
    "for genres in df_recente['genre']:\n",
    "    for ga in genres.split(','):\n",
    "        ga = ga.strip()\n",
    "        # print(f'GA: {ga}')\n",
    "        for gb in genres.split(','):\n",
    "            gb = gb.strip()\n",
    "            if ga != gb:\n",
    "                # print(f'    GB: {gb}')\n",
    "                conexoes_gen[ga][gb] += 1\n",
    "                conexoes_gen[ga]['Total'] += 1\n",
    "\n",
    "# pprint(conexoes_gen)\n",
    "percents = {}\n",
    "percents_mean = {}\n",
    "# Porcentagem de aparição de cada filme em relação a outro\n",
    "for genA in conexoes_gen:\n",
    "    # r_genA = repr(genA)[1:-1]\n",
    "    # print(f'GA: {genA}')\n",
    "    # print(f'raw GA: {r_genA}')\n",
    "    percents[genA] = {}\n",
    "    mean_p = 0\n",
    "    for genB in conexoes_gen[genA]:\n",
    "        # r_genB = repr(genB)[1:-1]\n",
    "        # print(f'    GB: {genB}')\n",
    "        # print(f'    raw GB: {r_genB}')\n",
    "        if genB != 'Total':\n",
    "            percents[genA][genB] = round(conexoes_gen[genA][genB] * 100 / conexoes_gen[genA]['Total'], 2)\n",
    "            mean_p += round(conexoes_gen[genA][genB] * 100 / conexoes_gen[genA]['Total'], 2)\n",
    "    mean_p /= (len(conexoes_gen[genA]) - 1)\n",
    "    percents_mean[genA] = mean_p\n",
    "    \n",
    "# pprint(percents)\n",
    "\n",
    "# Media de 5.55%, aumentamos para 10% para realizar um corte maior para evitar produções incomuns\n",
    "print('Media [%] por categoria: ')\n",
    "pprint(percents_mean)\n",
    "\n",
    "len(percents)"
   ]
  },
  {
   "cell_type": "code",
   "execution_count": null,
   "metadata": {
    "execution": {
     "iopub.execute_input": "2025-03-25T23:34:00.054028Z",
     "iopub.status.busy": "2025-03-25T23:34:00.053678Z",
     "iopub.status.idle": "2025-03-25T23:34:00.064599Z",
     "shell.execute_reply": "2025-03-25T23:34:00.063961Z",
     "shell.execute_reply.started": "2025-03-25T23:34:00.054012Z"
    }
   },
   "outputs": [],
   "source": [
    "import matplotlib.pyplot as plt"
   ]
  },
  {
   "cell_type": "code",
   "execution_count": null,
   "metadata": {
    "execution": {
     "iopub.execute_input": "2025-03-25T23:34:00.319439Z",
     "iopub.status.busy": "2025-03-25T23:34:00.318902Z",
     "iopub.status.idle": "2025-03-25T23:34:00.324917Z",
     "shell.execute_reply": "2025-03-25T23:34:00.324037Z",
     "shell.execute_reply.started": "2025-03-25T23:34:00.319398Z"
    }
   },
   "outputs": [],
   "source": [
    "# plt.plot(conexoes_gen['Action'])"
   ]
  },
  {
   "cell_type": "code",
   "execution_count": null,
   "metadata": {
    "execution": {
     "iopub.execute_input": "2025-03-25T23:34:00.513181Z",
     "iopub.status.busy": "2025-03-25T23:34:00.512807Z",
     "iopub.status.idle": "2025-03-25T23:34:00.796872Z",
     "shell.execute_reply": "2025-03-25T23:34:00.796133Z",
     "shell.execute_reply.started": "2025-03-25T23:34:00.513156Z"
    }
   },
   "outputs": [
    {
     "data": {
      "text/html": [
       "<div>\n",
       "<style scoped>\n",
       "    .dataframe tbody tr th:only-of-type {\n",
       "        vertical-align: middle;\n",
       "    }\n",
       "\n",
       "    .dataframe tbody tr th {\n",
       "        vertical-align: top;\n",
       "    }\n",
       "\n",
       "    .dataframe thead th {\n",
       "        text-align: right;\n",
       "    }\n",
       "</style>\n",
       "<table border=\"1\" class=\"dataframe\">\n",
       "  <thead>\n",
       "    <tr style=\"text-align: right;\">\n",
       "      <th></th>\n",
       "      <th>Action</th>\n",
       "      <th>Adventure</th>\n",
       "      <th>Animation</th>\n",
       "      <th>Comedy</th>\n",
       "      <th>Crime</th>\n",
       "      <th>Documentary</th>\n",
       "      <th>Drama</th>\n",
       "      <th>Family</th>\n",
       "      <th>Fantasy</th>\n",
       "      <th>History</th>\n",
       "      <th>Horror</th>\n",
       "      <th>Music</th>\n",
       "      <th>Mystery</th>\n",
       "      <th>Romance</th>\n",
       "      <th>Science Fiction</th>\n",
       "      <th>TV Movie</th>\n",
       "      <th>Thriller</th>\n",
       "      <th>War</th>\n",
       "      <th>Western</th>\n",
       "    </tr>\n",
       "  </thead>\n",
       "  <tbody>\n",
       "    <tr>\n",
       "      <th>Action</th>\n",
       "      <td>1.0</td>\n",
       "      <td>1.0</td>\n",
       "      <td>1.0</td>\n",
       "      <td>1.0</td>\n",
       "      <td>1.0</td>\n",
       "      <td>0.0</td>\n",
       "      <td>1.0</td>\n",
       "      <td>1.0</td>\n",
       "      <td>1.0</td>\n",
       "      <td>1.0</td>\n",
       "      <td>1.0</td>\n",
       "      <td>0.0</td>\n",
       "      <td>1.0</td>\n",
       "      <td>1.0</td>\n",
       "      <td>1.0</td>\n",
       "      <td>1.0</td>\n",
       "      <td>1.0</td>\n",
       "      <td>1.0</td>\n",
       "      <td>1.0</td>\n",
       "    </tr>\n",
       "    <tr>\n",
       "      <th>Adventure</th>\n",
       "      <td>1.0</td>\n",
       "      <td>1.0</td>\n",
       "      <td>1.0</td>\n",
       "      <td>1.0</td>\n",
       "      <td>1.0</td>\n",
       "      <td>0.0</td>\n",
       "      <td>1.0</td>\n",
       "      <td>1.0</td>\n",
       "      <td>1.0</td>\n",
       "      <td>1.0</td>\n",
       "      <td>1.0</td>\n",
       "      <td>1.0</td>\n",
       "      <td>1.0</td>\n",
       "      <td>1.0</td>\n",
       "      <td>1.0</td>\n",
       "      <td>1.0</td>\n",
       "      <td>1.0</td>\n",
       "      <td>0.0</td>\n",
       "      <td>1.0</td>\n",
       "    </tr>\n",
       "    <tr>\n",
       "      <th>Animation</th>\n",
       "      <td>1.0</td>\n",
       "      <td>1.0</td>\n",
       "      <td>1.0</td>\n",
       "      <td>1.0</td>\n",
       "      <td>1.0</td>\n",
       "      <td>1.0</td>\n",
       "      <td>1.0</td>\n",
       "      <td>1.0</td>\n",
       "      <td>1.0</td>\n",
       "      <td>1.0</td>\n",
       "      <td>1.0</td>\n",
       "      <td>1.0</td>\n",
       "      <td>1.0</td>\n",
       "      <td>1.0</td>\n",
       "      <td>1.0</td>\n",
       "      <td>1.0</td>\n",
       "      <td>1.0</td>\n",
       "      <td>1.0</td>\n",
       "      <td>1.0</td>\n",
       "    </tr>\n",
       "    <tr>\n",
       "      <th>Comedy</th>\n",
       "      <td>1.0</td>\n",
       "      <td>1.0</td>\n",
       "      <td>1.0</td>\n",
       "      <td>1.0</td>\n",
       "      <td>1.0</td>\n",
       "      <td>0.0</td>\n",
       "      <td>1.0</td>\n",
       "      <td>1.0</td>\n",
       "      <td>1.0</td>\n",
       "      <td>1.0</td>\n",
       "      <td>1.0</td>\n",
       "      <td>1.0</td>\n",
       "      <td>1.0</td>\n",
       "      <td>1.0</td>\n",
       "      <td>1.0</td>\n",
       "      <td>1.0</td>\n",
       "      <td>1.0</td>\n",
       "      <td>1.0</td>\n",
       "      <td>0.0</td>\n",
       "    </tr>\n",
       "    <tr>\n",
       "      <th>Crime</th>\n",
       "      <td>1.0</td>\n",
       "      <td>1.0</td>\n",
       "      <td>1.0</td>\n",
       "      <td>1.0</td>\n",
       "      <td>1.0</td>\n",
       "      <td>0.0</td>\n",
       "      <td>1.0</td>\n",
       "      <td>1.0</td>\n",
       "      <td>0.0</td>\n",
       "      <td>1.0</td>\n",
       "      <td>1.0</td>\n",
       "      <td>0.0</td>\n",
       "      <td>1.0</td>\n",
       "      <td>1.0</td>\n",
       "      <td>1.0</td>\n",
       "      <td>1.0</td>\n",
       "      <td>1.0</td>\n",
       "      <td>0.0</td>\n",
       "      <td>0.0</td>\n",
       "    </tr>\n",
       "    <tr>\n",
       "      <th>Documentary</th>\n",
       "      <td>0.0</td>\n",
       "      <td>0.0</td>\n",
       "      <td>1.0</td>\n",
       "      <td>0.0</td>\n",
       "      <td>0.0</td>\n",
       "      <td>1.0</td>\n",
       "      <td>1.0</td>\n",
       "      <td>0.0</td>\n",
       "      <td>0.0</td>\n",
       "      <td>1.0</td>\n",
       "      <td>0.0</td>\n",
       "      <td>1.0</td>\n",
       "      <td>0.0</td>\n",
       "      <td>0.0</td>\n",
       "      <td>0.0</td>\n",
       "      <td>1.0</td>\n",
       "      <td>1.0</td>\n",
       "      <td>0.0</td>\n",
       "      <td>0.0</td>\n",
       "    </tr>\n",
       "    <tr>\n",
       "      <th>Drama</th>\n",
       "      <td>1.0</td>\n",
       "      <td>1.0</td>\n",
       "      <td>1.0</td>\n",
       "      <td>1.0</td>\n",
       "      <td>1.0</td>\n",
       "      <td>1.0</td>\n",
       "      <td>1.0</td>\n",
       "      <td>1.0</td>\n",
       "      <td>1.0</td>\n",
       "      <td>1.0</td>\n",
       "      <td>1.0</td>\n",
       "      <td>1.0</td>\n",
       "      <td>1.0</td>\n",
       "      <td>1.0</td>\n",
       "      <td>1.0</td>\n",
       "      <td>1.0</td>\n",
       "      <td>1.0</td>\n",
       "      <td>1.0</td>\n",
       "      <td>1.0</td>\n",
       "    </tr>\n",
       "    <tr>\n",
       "      <th>Family</th>\n",
       "      <td>1.0</td>\n",
       "      <td>1.0</td>\n",
       "      <td>1.0</td>\n",
       "      <td>1.0</td>\n",
       "      <td>1.0</td>\n",
       "      <td>0.0</td>\n",
       "      <td>1.0</td>\n",
       "      <td>1.0</td>\n",
       "      <td>1.0</td>\n",
       "      <td>0.0</td>\n",
       "      <td>1.0</td>\n",
       "      <td>1.0</td>\n",
       "      <td>1.0</td>\n",
       "      <td>1.0</td>\n",
       "      <td>1.0</td>\n",
       "      <td>1.0</td>\n",
       "      <td>0.0</td>\n",
       "      <td>0.0</td>\n",
       "      <td>1.0</td>\n",
       "    </tr>\n",
       "    <tr>\n",
       "      <th>Fantasy</th>\n",
       "      <td>1.0</td>\n",
       "      <td>1.0</td>\n",
       "      <td>1.0</td>\n",
       "      <td>1.0</td>\n",
       "      <td>0.0</td>\n",
       "      <td>0.0</td>\n",
       "      <td>1.0</td>\n",
       "      <td>1.0</td>\n",
       "      <td>1.0</td>\n",
       "      <td>1.0</td>\n",
       "      <td>1.0</td>\n",
       "      <td>1.0</td>\n",
       "      <td>1.0</td>\n",
       "      <td>1.0</td>\n",
       "      <td>1.0</td>\n",
       "      <td>1.0</td>\n",
       "      <td>1.0</td>\n",
       "      <td>0.0</td>\n",
       "      <td>0.0</td>\n",
       "    </tr>\n",
       "    <tr>\n",
       "      <th>History</th>\n",
       "      <td>1.0</td>\n",
       "      <td>1.0</td>\n",
       "      <td>1.0</td>\n",
       "      <td>1.0</td>\n",
       "      <td>1.0</td>\n",
       "      <td>1.0</td>\n",
       "      <td>1.0</td>\n",
       "      <td>0.0</td>\n",
       "      <td>1.0</td>\n",
       "      <td>1.0</td>\n",
       "      <td>0.0</td>\n",
       "      <td>1.0</td>\n",
       "      <td>1.0</td>\n",
       "      <td>1.0</td>\n",
       "      <td>0.0</td>\n",
       "      <td>0.0</td>\n",
       "      <td>1.0</td>\n",
       "      <td>1.0</td>\n",
       "      <td>0.0</td>\n",
       "    </tr>\n",
       "    <tr>\n",
       "      <th>Horror</th>\n",
       "      <td>1.0</td>\n",
       "      <td>1.0</td>\n",
       "      <td>1.0</td>\n",
       "      <td>1.0</td>\n",
       "      <td>1.0</td>\n",
       "      <td>0.0</td>\n",
       "      <td>1.0</td>\n",
       "      <td>1.0</td>\n",
       "      <td>1.0</td>\n",
       "      <td>0.0</td>\n",
       "      <td>1.0</td>\n",
       "      <td>0.0</td>\n",
       "      <td>1.0</td>\n",
       "      <td>1.0</td>\n",
       "      <td>1.0</td>\n",
       "      <td>1.0</td>\n",
       "      <td>1.0</td>\n",
       "      <td>0.0</td>\n",
       "      <td>0.0</td>\n",
       "    </tr>\n",
       "    <tr>\n",
       "      <th>Music</th>\n",
       "      <td>0.0</td>\n",
       "      <td>1.0</td>\n",
       "      <td>1.0</td>\n",
       "      <td>1.0</td>\n",
       "      <td>0.0</td>\n",
       "      <td>1.0</td>\n",
       "      <td>1.0</td>\n",
       "      <td>1.0</td>\n",
       "      <td>1.0</td>\n",
       "      <td>1.0</td>\n",
       "      <td>0.0</td>\n",
       "      <td>1.0</td>\n",
       "      <td>0.0</td>\n",
       "      <td>1.0</td>\n",
       "      <td>1.0</td>\n",
       "      <td>1.0</td>\n",
       "      <td>0.0</td>\n",
       "      <td>0.0</td>\n",
       "      <td>0.0</td>\n",
       "    </tr>\n",
       "    <tr>\n",
       "      <th>Mystery</th>\n",
       "      <td>1.0</td>\n",
       "      <td>1.0</td>\n",
       "      <td>1.0</td>\n",
       "      <td>1.0</td>\n",
       "      <td>1.0</td>\n",
       "      <td>0.0</td>\n",
       "      <td>1.0</td>\n",
       "      <td>1.0</td>\n",
       "      <td>1.0</td>\n",
       "      <td>1.0</td>\n",
       "      <td>1.0</td>\n",
       "      <td>0.0</td>\n",
       "      <td>1.0</td>\n",
       "      <td>1.0</td>\n",
       "      <td>1.0</td>\n",
       "      <td>0.0</td>\n",
       "      <td>1.0</td>\n",
       "      <td>0.0</td>\n",
       "      <td>0.0</td>\n",
       "    </tr>\n",
       "    <tr>\n",
       "      <th>Romance</th>\n",
       "      <td>1.0</td>\n",
       "      <td>1.0</td>\n",
       "      <td>1.0</td>\n",
       "      <td>1.0</td>\n",
       "      <td>1.0</td>\n",
       "      <td>0.0</td>\n",
       "      <td>1.0</td>\n",
       "      <td>1.0</td>\n",
       "      <td>1.0</td>\n",
       "      <td>1.0</td>\n",
       "      <td>1.0</td>\n",
       "      <td>1.0</td>\n",
       "      <td>1.0</td>\n",
       "      <td>1.0</td>\n",
       "      <td>1.0</td>\n",
       "      <td>1.0</td>\n",
       "      <td>1.0</td>\n",
       "      <td>0.0</td>\n",
       "      <td>1.0</td>\n",
       "    </tr>\n",
       "    <tr>\n",
       "      <th>Science Fiction</th>\n",
       "      <td>1.0</td>\n",
       "      <td>1.0</td>\n",
       "      <td>1.0</td>\n",
       "      <td>1.0</td>\n",
       "      <td>1.0</td>\n",
       "      <td>0.0</td>\n",
       "      <td>1.0</td>\n",
       "      <td>1.0</td>\n",
       "      <td>1.0</td>\n",
       "      <td>0.0</td>\n",
       "      <td>1.0</td>\n",
       "      <td>1.0</td>\n",
       "      <td>1.0</td>\n",
       "      <td>1.0</td>\n",
       "      <td>1.0</td>\n",
       "      <td>1.0</td>\n",
       "      <td>1.0</td>\n",
       "      <td>1.0</td>\n",
       "      <td>0.0</td>\n",
       "    </tr>\n",
       "    <tr>\n",
       "      <th>TV Movie</th>\n",
       "      <td>1.0</td>\n",
       "      <td>1.0</td>\n",
       "      <td>1.0</td>\n",
       "      <td>1.0</td>\n",
       "      <td>1.0</td>\n",
       "      <td>1.0</td>\n",
       "      <td>1.0</td>\n",
       "      <td>1.0</td>\n",
       "      <td>1.0</td>\n",
       "      <td>0.0</td>\n",
       "      <td>1.0</td>\n",
       "      <td>1.0</td>\n",
       "      <td>0.0</td>\n",
       "      <td>1.0</td>\n",
       "      <td>1.0</td>\n",
       "      <td>1.0</td>\n",
       "      <td>1.0</td>\n",
       "      <td>0.0</td>\n",
       "      <td>0.0</td>\n",
       "    </tr>\n",
       "    <tr>\n",
       "      <th>Thriller</th>\n",
       "      <td>1.0</td>\n",
       "      <td>1.0</td>\n",
       "      <td>1.0</td>\n",
       "      <td>1.0</td>\n",
       "      <td>1.0</td>\n",
       "      <td>1.0</td>\n",
       "      <td>1.0</td>\n",
       "      <td>0.0</td>\n",
       "      <td>1.0</td>\n",
       "      <td>1.0</td>\n",
       "      <td>1.0</td>\n",
       "      <td>0.0</td>\n",
       "      <td>1.0</td>\n",
       "      <td>1.0</td>\n",
       "      <td>1.0</td>\n",
       "      <td>1.0</td>\n",
       "      <td>1.0</td>\n",
       "      <td>1.0</td>\n",
       "      <td>1.0</td>\n",
       "    </tr>\n",
       "    <tr>\n",
       "      <th>War</th>\n",
       "      <td>1.0</td>\n",
       "      <td>0.0</td>\n",
       "      <td>1.0</td>\n",
       "      <td>1.0</td>\n",
       "      <td>0.0</td>\n",
       "      <td>0.0</td>\n",
       "      <td>1.0</td>\n",
       "      <td>0.0</td>\n",
       "      <td>0.0</td>\n",
       "      <td>1.0</td>\n",
       "      <td>0.0</td>\n",
       "      <td>0.0</td>\n",
       "      <td>0.0</td>\n",
       "      <td>0.0</td>\n",
       "      <td>1.0</td>\n",
       "      <td>0.0</td>\n",
       "      <td>1.0</td>\n",
       "      <td>1.0</td>\n",
       "      <td>0.0</td>\n",
       "    </tr>\n",
       "    <tr>\n",
       "      <th>Western</th>\n",
       "      <td>1.0</td>\n",
       "      <td>1.0</td>\n",
       "      <td>1.0</td>\n",
       "      <td>0.0</td>\n",
       "      <td>0.0</td>\n",
       "      <td>0.0</td>\n",
       "      <td>1.0</td>\n",
       "      <td>1.0</td>\n",
       "      <td>0.0</td>\n",
       "      <td>0.0</td>\n",
       "      <td>0.0</td>\n",
       "      <td>0.0</td>\n",
       "      <td>0.0</td>\n",
       "      <td>1.0</td>\n",
       "      <td>0.0</td>\n",
       "      <td>0.0</td>\n",
       "      <td>1.0</td>\n",
       "      <td>0.0</td>\n",
       "      <td>1.0</td>\n",
       "    </tr>\n",
       "  </tbody>\n",
       "</table>\n",
       "</div>"
      ],
      "text/plain": [
       "                 Action  Adventure  Animation  Comedy  Crime  Documentary  \\\n",
       "Action              1.0        1.0        1.0     1.0    1.0          0.0   \n",
       "Adventure           1.0        1.0        1.0     1.0    1.0          0.0   \n",
       "Animation           1.0        1.0        1.0     1.0    1.0          1.0   \n",
       "Comedy              1.0        1.0        1.0     1.0    1.0          0.0   \n",
       "Crime               1.0        1.0        1.0     1.0    1.0          0.0   \n",
       "Documentary         0.0        0.0        1.0     0.0    0.0          1.0   \n",
       "Drama               1.0        1.0        1.0     1.0    1.0          1.0   \n",
       "Family              1.0        1.0        1.0     1.0    1.0          0.0   \n",
       "Fantasy             1.0        1.0        1.0     1.0    0.0          0.0   \n",
       "History             1.0        1.0        1.0     1.0    1.0          1.0   \n",
       "Horror              1.0        1.0        1.0     1.0    1.0          0.0   \n",
       "Music               0.0        1.0        1.0     1.0    0.0          1.0   \n",
       "Mystery             1.0        1.0        1.0     1.0    1.0          0.0   \n",
       "Romance             1.0        1.0        1.0     1.0    1.0          0.0   \n",
       "Science Fiction     1.0        1.0        1.0     1.0    1.0          0.0   \n",
       "TV Movie            1.0        1.0        1.0     1.0    1.0          1.0   \n",
       "Thriller            1.0        1.0        1.0     1.0    1.0          1.0   \n",
       "War                 1.0        0.0        1.0     1.0    0.0          0.0   \n",
       "Western             1.0        1.0        1.0     0.0    0.0          0.0   \n",
       "\n",
       "                 Drama  Family  Fantasy  History  Horror  Music  Mystery  \\\n",
       "Action             1.0     1.0      1.0      1.0     1.0    0.0      1.0   \n",
       "Adventure          1.0     1.0      1.0      1.0     1.0    1.0      1.0   \n",
       "Animation          1.0     1.0      1.0      1.0     1.0    1.0      1.0   \n",
       "Comedy             1.0     1.0      1.0      1.0     1.0    1.0      1.0   \n",
       "Crime              1.0     1.0      0.0      1.0     1.0    0.0      1.0   \n",
       "Documentary        1.0     0.0      0.0      1.0     0.0    1.0      0.0   \n",
       "Drama              1.0     1.0      1.0      1.0     1.0    1.0      1.0   \n",
       "Family             1.0     1.0      1.0      0.0     1.0    1.0      1.0   \n",
       "Fantasy            1.0     1.0      1.0      1.0     1.0    1.0      1.0   \n",
       "History            1.0     0.0      1.0      1.0     0.0    1.0      1.0   \n",
       "Horror             1.0     1.0      1.0      0.0     1.0    0.0      1.0   \n",
       "Music              1.0     1.0      1.0      1.0     0.0    1.0      0.0   \n",
       "Mystery            1.0     1.0      1.0      1.0     1.0    0.0      1.0   \n",
       "Romance            1.0     1.0      1.0      1.0     1.0    1.0      1.0   \n",
       "Science Fiction    1.0     1.0      1.0      0.0     1.0    1.0      1.0   \n",
       "TV Movie           1.0     1.0      1.0      0.0     1.0    1.0      0.0   \n",
       "Thriller           1.0     0.0      1.0      1.0     1.0    0.0      1.0   \n",
       "War                1.0     0.0      0.0      1.0     0.0    0.0      0.0   \n",
       "Western            1.0     1.0      0.0      0.0     0.0    0.0      0.0   \n",
       "\n",
       "                 Romance  Science Fiction  TV Movie  Thriller  War  Western  \n",
       "Action               1.0              1.0       1.0       1.0  1.0      1.0  \n",
       "Adventure            1.0              1.0       1.0       1.0  0.0      1.0  \n",
       "Animation            1.0              1.0       1.0       1.0  1.0      1.0  \n",
       "Comedy               1.0              1.0       1.0       1.0  1.0      0.0  \n",
       "Crime                1.0              1.0       1.0       1.0  0.0      0.0  \n",
       "Documentary          0.0              0.0       1.0       1.0  0.0      0.0  \n",
       "Drama                1.0              1.0       1.0       1.0  1.0      1.0  \n",
       "Family               1.0              1.0       1.0       0.0  0.0      1.0  \n",
       "Fantasy              1.0              1.0       1.0       1.0  0.0      0.0  \n",
       "History              1.0              0.0       0.0       1.0  1.0      0.0  \n",
       "Horror               1.0              1.0       1.0       1.0  0.0      0.0  \n",
       "Music                1.0              1.0       1.0       0.0  0.0      0.0  \n",
       "Mystery              1.0              1.0       0.0       1.0  0.0      0.0  \n",
       "Romance              1.0              1.0       1.0       1.0  0.0      1.0  \n",
       "Science Fiction      1.0              1.0       1.0       1.0  1.0      0.0  \n",
       "TV Movie             1.0              1.0       1.0       1.0  0.0      0.0  \n",
       "Thriller             1.0              1.0       1.0       1.0  1.0      1.0  \n",
       "War                  0.0              1.0       0.0       1.0  1.0      0.0  \n",
       "Western              1.0              0.0       0.0       1.0  0.0      1.0  "
      ]
     },
     "metadata": {},
     "output_type": "display_data"
    }
   ],
   "source": [
    "# Popular os dados de generos\n",
    "for gen in df_recente['genre']:\n",
    "    # print(gen)\n",
    "    for ga in gen.split(','):\n",
    "        # print(ga)\n",
    "        ga_limpo = ga.strip()\n",
    "        for gb in gen.split(','):\n",
    "            gb_limpo = gb.strip()\n",
    "            matriz_gen.loc[gb_limpo, ga_limpo] = 1\n",
    "\n",
    "display(matriz_gen)\n",
    "\n",
    "for gen_a in lista_generos:\n",
    "    for gen_b in lista_generos:\n",
    "        if gen_b != gen_a and matriz_gen.loc[gen_b, gen_a] == 1:\n",
    "            # Adiciona a arresta se foram localizados juntos\n",
    "            # print(f'Para {gen_a} e {gen_b}, achamos relacao!')\n",
    "            if g.vertex_by_id(gen_a) is None:\n",
    "                v = g.add_vertex_by_id(gen_a)\n",
    "                v['color'] = 0xff0000\n",
    "                # v_color[v] = \"red\"\n",
    "                \n",
    "            if g.vertex_by_id(gen_b) is None:\n",
    "                v = g.add_vertex_by_id(gen_b)\n",
    "                v['color'] = 0xff0000\n",
    "                # v_color[v] = \"red\"\n",
    "                \n",
    "            g.add_edge_by_ids(gen_a, gen_b)\n",
    "\n",
    "            # Para nao repetir criacao de aresta\n",
    "            matriz_gen.loc[gen_b, gen_a] = 0\n",
    "            matriz_gen.loc[gen_a, gen_b] = 0\n",
    "\n",
    "            df.sum(axis=1, numeric_only=True)\n",
    "\n"
   ]
  },
  {
   "cell_type": "code",
   "execution_count": null,
   "metadata": {
    "execution": {
     "iopub.execute_input": "2025-03-25T23:34:00.798039Z",
     "iopub.status.busy": "2025-03-25T23:34:00.797868Z",
     "iopub.status.idle": "2025-03-25T23:34:00.823561Z",
     "shell.execute_reply": "2025-03-25T23:34:00.822879Z",
     "shell.execute_reply.started": "2025-03-25T23:34:00.798021Z"
    }
   },
   "outputs": [],
   "source": [
    "genero = []\n",
    "\n",
    "for idx, row in df_recente.iterrows():\n",
    "    filme = row['names']\n",
    "    for ga in row['genre'].split(','):\n",
    "        g_limpo = ga.strip()\n",
    "        genero.append(g_limpo)\n",
    "        g.add_edge_by_ids(filme, g_limpo)"
   ]
  },
  {
   "cell_type": "code",
   "execution_count": null,
   "metadata": {
    "execution": {
     "iopub.execute_input": "2025-03-25T23:34:01.219375Z",
     "iopub.status.busy": "2025-03-25T23:34:01.218935Z",
     "iopub.status.idle": "2025-03-25T23:34:02.067454Z",
     "shell.execute_reply": "2025-03-25T23:34:02.067002Z",
     "shell.execute_reply.started": "2025-03-25T23:34:01.219346Z"
    }
   },
   "outputs": [],
   "source": [
    "layout = draw.sfdp_layout(g)\n",
    "\n",
    "gte.move(g, layout)"
   ]
  },
  {
   "cell_type": "code",
   "execution_count": null,
   "metadata": {
    "execution": {
     "iopub.execute_input": "2025-03-25T23:34:02.068068Z",
     "iopub.status.busy": "2025-03-25T23:34:02.067978Z",
     "iopub.status.idle": "2025-03-25T23:34:02.071356Z",
     "shell.execute_reply": "2025-03-25T23:34:02.071008Z",
     "shell.execute_reply.started": "2025-03-25T23:34:02.068061Z"
    }
   },
   "outputs": [
    {
     "name": "stdout",
     "output_type": "stream",
     "text": [
      "Número de vértices: 707\n",
      "Número de arestas: 3760\n"
     ]
    }
   ],
   "source": [
    "print(\"Número de vértices:\", g.num_vertices())\n",
    "print(\"Número de arestas:\", g.num_edges())"
   ]
  },
  {
   "cell_type": "code",
   "execution_count": null,
   "metadata": {
    "execution": {
     "iopub.execute_input": "2025-03-25T23:34:02.071897Z",
     "iopub.status.busy": "2025-03-25T23:34:02.071776Z",
     "iopub.status.idle": "2025-03-25T23:34:02.166177Z",
     "shell.execute_reply": "2025-03-25T23:34:02.165882Z",
     "shell.execute_reply.started": "2025-03-25T23:34:02.071888Z"
    },
    "scrolled": true
   },
   "outputs": [
    {
     "data": {
      "text/html": [
       "\n",
       "        <div id=\"VUeuXa5dDVGpjkcVzXTwJX\"></div>\n",
       "        <script>netpixi.render('VUeuXa5dDVGpjkcVzXTwJX', '/static/imdb.net.gz', 1.7777777777777777, true, false, false, true);</script>\n",
       "    "
      ],
      "text/plain": [
       "<IPython.core.display.HTML object>"
      ]
     },
     "metadata": {},
     "output_type": "display_data"
    }
   ],
   "source": [
    "gte.save(g, 'imdb.net.gz')\n",
    "\n",
    "r = netpixi.render('imdb.net.gz');\n",
    "# r.vertex_scale('genre', 1, 5)"
   ]
  },
  {
   "cell_type": "code",
   "execution_count": null,
   "metadata": {
    "execution": {
     "iopub.execute_input": "2025-03-25T23:34:02.736935Z",
     "iopub.status.busy": "2025-03-25T23:34:02.736654Z",
     "iopub.status.idle": "2025-03-25T23:34:02.743436Z",
     "shell.execute_reply": "2025-03-25T23:34:02.742938Z",
     "shell.execute_reply.started": "2025-03-25T23:34:02.736919Z"
    }
   },
   "outputs": [
    {
     "data": {
      "text/html": [
       "\n",
       "        <div id=\"ctPBmhTeWg3za4KJUkYepS\"></div>\n",
       "        <script>netpixi.call('ctPBmhTeWg3za4KJUkYepS', 'VUeuXa5dDVGpjkcVzXTwJX', 'changeGraph', 'eyJ0eXBlIjogInNldHRpbmdzIiwgInByb3BzIjogeyJ2ZXJ0ZXgiOiB7InNpemUiOiAyMCwgImNvbG9yIjogMTY3MTE2ODAsICJid2lkdGgiOiAyLCAiYmNvbG9yIjogMH19fQo=');</script>\n",
       "    "
      ],
      "text/plain": [
       "<IPython.core.display.HTML object>"
      ]
     },
     "metadata": {},
     "output_type": "display_data"
    },
    {
     "data": {
      "text/html": [
       "\n",
       "        <div id=\"g26XmVLcwgRRAoUdp5X6Kz\"></div>\n",
       "        <script>netpixi.call('g26XmVLcwgRRAoUdp5X6Kz', 'VUeuXa5dDVGpjkcVzXTwJX', 'changeGraph', 'eyJ0eXBlIjogInNldHRpbmdzIiwgInByb3BzIjogeyJlZGdlIjogeyJ3aWR0aCI6IDIsICJjb2xvciI6IDc4Mjk1MDMsICJjdXJ2ZTEiOiAwLCAiY3VydmUyIjogMH19fQo=');</script>\n",
       "    "
      ],
      "text/plain": [
       "<IPython.core.display.HTML object>"
      ]
     },
     "metadata": {},
     "output_type": "display_data"
    }
   ],
   "source": [
    "r.vertex_default(\n",
    "    size=20,         # tamanho            (padrão: 16)\n",
    "    color=0xff0000,  # cor                (padrão: 0xffffff)\n",
    "    bwidth=2,        # espessura da borda (padrão: 2)\n",
    "    bcolor=0x000000, # cor da borda       (padrão: 0x3f3f3f)\n",
    ")\n",
    "\n",
    "r.edge_default(\n",
    "    width=2,        # espessura         (padrão: 2)\n",
    "    color=0x7777ff, # cor               (padrão: 0xffffff)\n",
    "    curve1=0,       # curvatura inicial (padrão: 0)\n",
    "    curve2=0,       # curvatura final   (padrão: 0)nalogamente, para atribuir características visuais às arestas, podemos chamanalogamente, para atribuir características visuais às arestas, podemos chama\n",
    ")\n"
   ]
  },
  {
   "cell_type": "markdown",
   "metadata": {},
   "source": [
    "## Degree (Híbrida)"
   ]
  },
  {
   "cell_type": "code",
   "execution_count": null,
   "metadata": {
    "execution": {
     "iopub.execute_input": "2025-03-25T23:34:03.962228Z",
     "iopub.status.busy": "2025-03-25T23:34:03.961878Z",
     "iopub.status.idle": "2025-03-25T23:34:04.076688Z",
     "shell.execute_reply": "2025-03-25T23:34:04.076119Z",
     "shell.execute_reply.started": "2025-03-25T23:34:03.962201Z"
    }
   },
   "outputs": [],
   "source": [
    "g_deg_hibrid = g\n",
    "\n",
    "c = gte.total_degree(g_deg_hibrid)\n",
    "g_deg_hibrid.add_vp('degree', c)\n",
    "gte.save(g_deg_hibrid, 'degree_hib.net.gz')"
   ]
  },
  {
   "cell_type": "code",
   "execution_count": null,
   "metadata": {
    "execution": {
     "iopub.execute_input": "2025-03-25T23:34:04.394849Z",
     "iopub.status.busy": "2025-03-25T23:34:04.394207Z",
     "iopub.status.idle": "2025-03-25T23:34:04.402779Z",
     "shell.execute_reply": "2025-03-25T23:34:04.402021Z",
     "shell.execute_reply.started": "2025-03-25T23:34:04.394815Z"
    }
   },
   "outputs": [
    {
     "data": {
      "text/html": [
       "\n",
       "        <div id=\"V5JxVJG5KgiL25o6V3YBuL\"></div>\n",
       "        <script>netpixi.render('V5JxVJG5KgiL25o6V3YBuL', '/static/degree_hib.net.gz', 1.7777777777777777, true, false, false, true);</script>\n",
       "    "
      ],
      "text/plain": [
       "<IPython.core.display.HTML object>"
      ]
     },
     "metadata": {},
     "output_type": "display_data"
    }
   ],
   "source": [
    "r_hib = netpixi.render('degree_hib.net.gz')"
   ]
  },
  {
   "cell_type": "code",
   "execution_count": null,
   "metadata": {
    "execution": {
     "iopub.execute_input": "2025-03-25T23:34:10.430285Z",
     "iopub.status.busy": "2025-03-25T23:34:10.429282Z",
     "iopub.status.idle": "2025-03-25T23:34:10.441522Z",
     "shell.execute_reply": "2025-03-25T23:34:10.441038Z",
     "shell.execute_reply.started": "2025-03-25T23:34:10.430236Z"
    }
   },
   "outputs": [
    {
     "data": {
      "text/html": [
       "\n",
       "        <div id=\"DAX6cQzDtJyYWnXoCXTEDz\"></div>\n",
       "        <script>netpixi.call('DAX6cQzDtJyYWnXoCXTEDz', 'V5JxVJG5KgiL25o6V3YBuL', 'normalizeGraph', 'eyJ0eXBlIjogInZlcnRleCIsICJwcm9wcyI6IHsic3JjIjogImRlZ3JlZSIsICJtaW4iOiAxMCwgIm1heCI6IDM1fX0K');</script>\n",
       "    "
      ],
      "text/plain": [
       "<IPython.core.display.HTML object>"
      ]
     },
     "metadata": {},
     "output_type": "display_data"
    },
    {
     "data": {
      "text/html": [
       "\n",
       "        <div id=\"QGYbDFuJD5Z2RH4FrPpjbF\"></div>\n",
       "        <script>netpixi.call('QGYbDFuJD5Z2RH4FrPpjbF', 'V5JxVJG5KgiL25o6V3YBuL', 'changeGraph', 'eyJ0eXBlIjogInNldHRpbmdzIiwgInByb3BzIjogeyJ2ZXJ0ZXgiOiB7InNpemUiOiAyMCwgImNvbG9yIjogMTY3MTE2ODAsICJid2lkdGgiOiAyLCAiYmNvbG9yIjogMH19fQo=');</script>\n",
       "    "
      ],
      "text/plain": [
       "<IPython.core.display.HTML object>"
      ]
     },
     "metadata": {},
     "output_type": "display_data"
    },
    {
     "data": {
      "text/html": [
       "\n",
       "        <div id=\"EGcbXGgaYeNbWDEBLL5Kaj\"></div>\n",
       "        <script>netpixi.call('EGcbXGgaYeNbWDEBLL5Kaj', 'V5JxVJG5KgiL25o6V3YBuL', 'changeGraph', 'eyJ0eXBlIjogInNldHRpbmdzIiwgInByb3BzIjogeyJlZGdlIjogeyJ3aWR0aCI6IDIsICJjb2xvciI6IDc4Mjk1MDMsICJjdXJ2ZTEiOiAwLCAiY3VydmUyIjogMH19fQo=');</script>\n",
       "    "
      ],
      "text/plain": [
       "<IPython.core.display.HTML object>"
      ]
     },
     "metadata": {},
     "output_type": "display_data"
    }
   ],
   "source": [
    "r_hib.vertex_scale('degree', 10, 35)\n",
    "\n",
    "r_hib.vertex_default(\n",
    "    size=20,         # tamanho            (padrão: 16)\n",
    "    color=0xff0000,  # cor                (padrão: 0xffffff)\n",
    "    bwidth=2,        # espessura da borda (padrão: 2)\n",
    "    bcolor=0x000000, # cor da borda       (padrão: 0x3f3f3f)\n",
    ")\n",
    "\n",
    "r_hib.edge_default(\n",
    "    width=2,        # espessura         (padrão: 2)\n",
    "    color=0x7777ff, # cor               (padrão: 0xffffff)\n",
    "    curve1=0,       # curvatura inicial (padrão: 0)\n",
    "    curve2=0,       # curvatura final   (padrão: 0)nalogamente, para atribuir características visuais às arestas, podemos chamanalogamente, para atribuir características visuais às arestas, podemos chama\n",
    ")"
   ]
  },
  {
   "cell_type": "code",
   "execution_count": null,
   "metadata": {
    "execution": {
     "iopub.execute_input": "2025-03-25T23:39:22.599505Z",
     "iopub.status.busy": "2025-03-25T23:39:22.598344Z",
     "iopub.status.idle": "2025-03-25T23:39:23.054189Z",
     "shell.execute_reply": "2025-03-25T23:39:23.053612Z",
     "shell.execute_reply.started": "2025-03-25T23:39:22.599425Z"
    }
   },
   "outputs": [],
   "source": [
    "g_ego = g\n",
    "c = gte.burt_constraint(g_ego)\n",
    "g_ego.add_vp('burt_constraint', c)\n",
    "gte.save(g_ego, 'structural_holes.net.gz')"
   ]
  },
  {
   "cell_type": "code",
   "execution_count": null,
   "metadata": {
    "execution": {
     "iopub.execute_input": "2025-03-25T23:39:46.859271Z",
     "iopub.status.busy": "2025-03-25T23:39:46.859076Z",
     "iopub.status.idle": "2025-03-25T23:39:46.866887Z",
     "shell.execute_reply": "2025-03-25T23:39:46.866501Z",
     "shell.execute_reply.started": "2025-03-25T23:39:46.859257Z"
    }
   },
   "outputs": [
    {
     "data": {
      "text/html": [
       "\n",
       "        <div id=\"Wz2nSbdQoKVLyAHp8LoCAS\"></div>\n",
       "        <script>netpixi.render('Wz2nSbdQoKVLyAHp8LoCAS', '/static/structural_holes.net.gz', 1.7777777777777777, true, false, false, true);</script>\n",
       "    "
      ],
      "text/plain": [
       "<IPython.core.display.HTML object>"
      ]
     },
     "metadata": {},
     "output_type": "display_data"
    }
   ],
   "source": [
    "r_ego = netpixi.render('structural_holes.net.gz')"
   ]
  },
  {
   "cell_type": "code",
   "execution_count": null,
   "metadata": {
    "execution": {
     "iopub.execute_input": "2025-03-25T23:40:22.928342Z",
     "iopub.status.busy": "2025-03-25T23:40:22.927425Z",
     "iopub.status.idle": "2025-03-25T23:40:22.936292Z",
     "shell.execute_reply": "2025-03-25T23:40:22.935705Z",
     "shell.execute_reply.started": "2025-03-25T23:40:22.928299Z"
    }
   },
   "outputs": [
    {
     "data": {
      "text/html": [
       "\n",
       "        <div id=\"a7LzMdfUWwBf6HfYuziPYa\"></div>\n",
       "        <script>netpixi.call('a7LzMdfUWwBf6HfYuziPYa', 'Wz2nSbdQoKVLyAHp8LoCAS', 'normalizeGraph', 'eyJ0eXBlIjogInZlcnRleCIsICJwcm9wcyI6IHsic3JjIjogImJ1cnRfY29uc3RyYWludCIsICJtaW4iOiAxMCwgIm1heCI6IDMwfX0K');</script>\n",
       "    "
      ],
      "text/plain": [
       "<IPython.core.display.HTML object>"
      ]
     },
     "metadata": {},
     "output_type": "display_data"
    }
   ],
   "source": [
    "r_ego.vertex_scale('burt_constraint', 10, 30)"
   ]
  },
  {
   "cell_type": "code",
   "execution_count": null,
   "metadata": {
    "execution": {
     "iopub.execute_input": "2025-03-25T23:43:51.376656Z",
     "iopub.status.busy": "2025-03-25T23:43:51.374953Z",
     "iopub.status.idle": "2025-03-25T23:43:51.388791Z",
     "shell.execute_reply": "2025-03-25T23:43:51.388210Z",
     "shell.execute_reply.started": "2025-03-25T23:43:51.376608Z"
    }
   },
   "outputs": [
    {
     "data": {
      "text/html": [
       "\n",
       "        <div id=\"dk2hm3LoY2MaHWj4eywCW5\"></div>\n",
       "        <script>netpixi.call('dk2hm3LoY2MaHWj4eywCW5', 'Wz2nSbdQoKVLyAHp8LoCAS', 'changeGraph', 'eyJ0eXBlIjogInNldHRpbmdzIiwgInByb3BzIjogeyJ2ZXJ0ZXgiOiB7InNpemUiOiAyMCwgImNvbG9yIjogMTY3MTE2ODAsICJid2lkdGgiOiAyLCAiYmNvbG9yIjogMH19fQo=');</script>\n",
       "    "
      ],
      "text/plain": [
       "<IPython.core.display.HTML object>"
      ]
     },
     "metadata": {},
     "output_type": "display_data"
    },
    {
     "data": {
      "text/html": [
       "\n",
       "        <div id=\"736e2mvgu4BGcFDNkxiWpR\"></div>\n",
       "        <script>netpixi.call('736e2mvgu4BGcFDNkxiWpR', 'Wz2nSbdQoKVLyAHp8LoCAS', 'changeGraph', 'eyJ0eXBlIjogInNldHRpbmdzIiwgInByb3BzIjogeyJlZGdlIjogeyJ3aWR0aCI6IDIsICJjb2xvciI6IDc4Mjk1MDMsICJjdXJ2ZTEiOiAwLCAiY3VydmUyIjogMH19fQo=');</script>\n",
       "    "
      ],
      "text/plain": [
       "<IPython.core.display.HTML object>"
      ]
     },
     "metadata": {},
     "output_type": "display_data"
    }
   ],
   "source": [
    "r_ego.vertex_default(\n",
    "    size=20,         # tamanho            (padrão: 16)\n",
    "    color=0xff0000,  # cor                (padrão: 0xffffff)\n",
    "    bwidth=2,        # espessura da borda (padrão: 2)\n",
    "    bcolor=0x000000, # cor da borda       (padrão: 0x3f3f3f)\n",
    ")\n",
    "\n",
    "r_ego.edge_default(\n",
    "    width=2,        # espessura         (padrão: 2)\n",
    "    color=0x7777ff, # cor               (padrão: 0xffffff)\n",
    "    curve1=0,       # curvatura inicial (padrão: 0)\n",
    "    curve2=0,       # curvatura final   (padrão: 0)nalogamente, para atribuir características visuais às arestas, podemos chamanalogamente, para atribuir características visuais às arestas, podemos chama\n",
    ")"
   ]
  },
  {
   "cell_type": "markdown",
   "metadata": {},
   "source": [
    "# Modelo Baseline - Variaveis de Controle"
   ]
  },
  {
   "cell_type": "code",
   "execution_count": null,
   "metadata": {},
   "outputs": [
    {
     "ename": "NameError",
     "evalue": "name 'netpixi' is not defined",
     "output_type": "error",
     "traceback": [
      "\u001b[0;31m---------------------------------------------------------------------------\u001b[0m",
      "\u001b[0;31mNameError\u001b[0m                                 Traceback (most recent call last)",
      "Cell \u001b[0;32mIn[7], line 1\u001b[0m\n\u001b[0;32m----> 1\u001b[0m r_hib \u001b[38;5;241m=\u001b[39m \u001b[43mnetpixi\u001b[49m\u001b[38;5;241m.\u001b[39mrender(\u001b[38;5;124m'\u001b[39m\u001b[38;5;124mdegree_hib.net.gz\u001b[39m\u001b[38;5;124m'\u001b[39m)\n\u001b[1;32m      2\u001b[0m r_hib\u001b[38;5;241m.\u001b[39mhead()\n",
      "\u001b[0;31mNameError\u001b[0m: name 'netpixi' is not defined"
     ]
    }
   ],
   "source": [
    "r_hib = netpixi.render('degree_hib.net.gz')\n",
    "r_hib.head()"
   ]
  }
 ],
 "metadata": {
  "kernelspec": {
   "display_name": "Python 3",
   "language": "python",
   "name": "python3"
  },
  "language_info": {
   "codemirror_mode": {
    "name": "ipython",
    "version": 3
   },
   "file_extension": ".py",
   "mimetype": "text/x-python",
   "name": "python",
   "nbconvert_exporter": "python",
   "pygments_lexer": "ipython3",
   "version": "3.12.8"
  }
 },
 "nbformat": 4,
 "nbformat_minor": 4
}
