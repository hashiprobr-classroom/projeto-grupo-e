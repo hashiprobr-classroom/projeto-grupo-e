{
 "cells": [
  {
   "cell_type": "markdown",
   "metadata": {},
   "source": [
    "## Projeto 1 - "
   ]
  },
  {
   "cell_type": "code",
   "execution_count": 1,
   "metadata": {
    "execution": {
     "iopub.execute_input": "2025-05-14T21:47:55.977441Z",
     "iopub.status.busy": "2025-05-14T21:47:55.976617Z",
     "iopub.status.idle": "2025-05-14T21:47:55.985457Z",
     "shell.execute_reply": "2025-05-14T21:47:55.984337Z",
     "shell.execute_reply.started": "2025-05-14T21:47:55.977385Z"
    }
   },
   "outputs": [],
   "source": [
    "# !pip install --upgrade pip"
   ]
  },
  {
   "cell_type": "code",
   "execution_count": 2,
   "metadata": {
    "execution": {
     "iopub.execute_input": "2025-05-14T21:47:56.461122Z",
     "iopub.status.busy": "2025-05-14T21:47:56.460763Z",
     "iopub.status.idle": "2025-05-14T21:47:56.467784Z",
     "shell.execute_reply": "2025-05-14T21:47:56.466448Z",
     "shell.execute_reply.started": "2025-05-14T21:47:56.461094Z"
    }
   },
   "outputs": [],
   "source": [
    "# !pip install pandas\n",
    "# # !pip install csv\n",
    "# !pip install git+https://github.com/hashiprobr/netpixi.git\n",
    "# !pip install graph-tool-extras"
   ]
  },
  {
   "cell_type": "code",
   "execution_count": 3,
   "metadata": {
    "execution": {
     "iopub.execute_input": "2025-05-14T21:47:56.821850Z",
     "iopub.status.busy": "2025-05-14T21:47:56.821481Z",
     "iopub.status.idle": "2025-05-14T21:48:00.318580Z",
     "shell.execute_reply": "2025-05-14T21:48:00.317479Z",
     "shell.execute_reply.started": "2025-05-14T21:47:56.821823Z"
    }
   },
   "outputs": [
    {
     "data": {
      "text/html": [
       "\n",
       "    <script src=\"/static/.hidden/netpixi.min.js\"></script>\n"
      ],
      "text/plain": [
       "<IPython.core.display.HTML object>"
      ]
     },
     "metadata": {},
     "output_type": "display_data"
    }
   ],
   "source": [
    "# import graph_tool_extras as gte\n",
    "import pandas as pd\n",
    "import csv\n",
    "import netpixi\n",
    "import numpy as np\n",
    "\n",
    "import graph_tool_extras as gte\n",
    "from graph_tool import draw"
   ]
  },
  {
   "cell_type": "code",
   "execution_count": 4,
   "metadata": {
    "execution": {
     "iopub.execute_input": "2025-05-14T21:48:00.320746Z",
     "iopub.status.busy": "2025-05-14T21:48:00.320180Z",
     "iopub.status.idle": "2025-05-14T21:48:00.403642Z",
     "shell.execute_reply": "2025-05-14T21:48:00.403286Z",
     "shell.execute_reply.started": "2025-05-14T21:48:00.320720Z"
    }
   },
   "outputs": [
    {
     "data": {
      "text/html": [
       "<div>\n",
       "<style scoped>\n",
       "    .dataframe tbody tr th:only-of-type {\n",
       "        vertical-align: middle;\n",
       "    }\n",
       "\n",
       "    .dataframe tbody tr th {\n",
       "        vertical-align: top;\n",
       "    }\n",
       "\n",
       "    .dataframe thead th {\n",
       "        text-align: right;\n",
       "    }\n",
       "</style>\n",
       "<table border=\"1\" class=\"dataframe\">\n",
       "  <thead>\n",
       "    <tr style=\"text-align: right;\">\n",
       "      <th></th>\n",
       "      <th>names</th>\n",
       "      <th>date_x</th>\n",
       "      <th>score</th>\n",
       "      <th>genre</th>\n",
       "      <th>overview</th>\n",
       "      <th>crew</th>\n",
       "      <th>orig_title</th>\n",
       "      <th>status</th>\n",
       "      <th>orig_lang</th>\n",
       "      <th>budget_x</th>\n",
       "      <th>revenue</th>\n",
       "      <th>country</th>\n",
       "    </tr>\n",
       "  </thead>\n",
       "  <tbody>\n",
       "    <tr>\n",
       "      <th>0</th>\n",
       "      <td>Creed III</td>\n",
       "      <td>03/02/2023</td>\n",
       "      <td>73.0</td>\n",
       "      <td>Drama, Action</td>\n",
       "      <td>After dominating the boxing world, Adonis Cree...</td>\n",
       "      <td>Michael B. Jordan, Adonis Creed, Tessa Thompso...</td>\n",
       "      <td>Creed III</td>\n",
       "      <td>Released</td>\n",
       "      <td>English</td>\n",
       "      <td>75000000.0</td>\n",
       "      <td>2.716167e+08</td>\n",
       "      <td>AU</td>\n",
       "    </tr>\n",
       "    <tr>\n",
       "      <th>1</th>\n",
       "      <td>Avatar: The Way of Water</td>\n",
       "      <td>12/15/2022</td>\n",
       "      <td>78.0</td>\n",
       "      <td>Science Fiction, Adventure, Action</td>\n",
       "      <td>Set more than a decade after the events of the...</td>\n",
       "      <td>Sam Worthington, Jake Sully, Zoe Saldaña, Neyt...</td>\n",
       "      <td>Avatar: The Way of Water</td>\n",
       "      <td>Released</td>\n",
       "      <td>English</td>\n",
       "      <td>460000000.0</td>\n",
       "      <td>2.316795e+09</td>\n",
       "      <td>AU</td>\n",
       "    </tr>\n",
       "    <tr>\n",
       "      <th>2</th>\n",
       "      <td>The Super Mario Bros. Movie</td>\n",
       "      <td>04/05/2023</td>\n",
       "      <td>76.0</td>\n",
       "      <td>Animation, Adventure, Family, Fantasy, Comedy</td>\n",
       "      <td>While working underground to fix a water main,...</td>\n",
       "      <td>Chris Pratt, Mario (voice), Anya Taylor-Joy, P...</td>\n",
       "      <td>The Super Mario Bros. Movie</td>\n",
       "      <td>Released</td>\n",
       "      <td>English</td>\n",
       "      <td>100000000.0</td>\n",
       "      <td>7.244590e+08</td>\n",
       "      <td>AU</td>\n",
       "    </tr>\n",
       "    <tr>\n",
       "      <th>3</th>\n",
       "      <td>Mummies</td>\n",
       "      <td>01/05/2023</td>\n",
       "      <td>70.0</td>\n",
       "      <td>Animation, Comedy, Family, Adventure, Fantasy</td>\n",
       "      <td>Through a series of unfortunate events, three ...</td>\n",
       "      <td>Óscar Barberán, Thut (voice), Ana Esther Albor...</td>\n",
       "      <td>Momias</td>\n",
       "      <td>Released</td>\n",
       "      <td>Spanish, Castilian</td>\n",
       "      <td>12300000.0</td>\n",
       "      <td>3.420000e+07</td>\n",
       "      <td>AU</td>\n",
       "    </tr>\n",
       "    <tr>\n",
       "      <th>4</th>\n",
       "      <td>Supercell</td>\n",
       "      <td>03/17/2023</td>\n",
       "      <td>61.0</td>\n",
       "      <td>Action</td>\n",
       "      <td>Good-hearted teenager William always lived in ...</td>\n",
       "      <td>Skeet Ulrich, Roy Cameron, Anne Heche, Dr Quin...</td>\n",
       "      <td>Supercell</td>\n",
       "      <td>Released</td>\n",
       "      <td>English</td>\n",
       "      <td>77000000.0</td>\n",
       "      <td>3.409420e+08</td>\n",
       "      <td>US</td>\n",
       "    </tr>\n",
       "  </tbody>\n",
       "</table>\n",
       "</div>"
      ],
      "text/plain": [
       "                         names       date_x  score  \\\n",
       "0                    Creed III  03/02/2023    73.0   \n",
       "1     Avatar: The Way of Water  12/15/2022    78.0   \n",
       "2  The Super Mario Bros. Movie  04/05/2023    76.0   \n",
       "3                      Mummies  01/05/2023    70.0   \n",
       "4                    Supercell  03/17/2023    61.0   \n",
       "\n",
       "                                           genre  \\\n",
       "0                                  Drama, Action   \n",
       "1             Science Fiction, Adventure, Action   \n",
       "2  Animation, Adventure, Family, Fantasy, Comedy   \n",
       "3  Animation, Comedy, Family, Adventure, Fantasy   \n",
       "4                                         Action   \n",
       "\n",
       "                                            overview  \\\n",
       "0  After dominating the boxing world, Adonis Cree...   \n",
       "1  Set more than a decade after the events of the...   \n",
       "2  While working underground to fix a water main,...   \n",
       "3  Through a series of unfortunate events, three ...   \n",
       "4  Good-hearted teenager William always lived in ...   \n",
       "\n",
       "                                                crew  \\\n",
       "0  Michael B. Jordan, Adonis Creed, Tessa Thompso...   \n",
       "1  Sam Worthington, Jake Sully, Zoe Saldaña, Neyt...   \n",
       "2  Chris Pratt, Mario (voice), Anya Taylor-Joy, P...   \n",
       "3  Óscar Barberán, Thut (voice), Ana Esther Albor...   \n",
       "4  Skeet Ulrich, Roy Cameron, Anne Heche, Dr Quin...   \n",
       "\n",
       "                    orig_title     status            orig_lang     budget_x  \\\n",
       "0                    Creed III   Released              English   75000000.0   \n",
       "1     Avatar: The Way of Water   Released              English  460000000.0   \n",
       "2  The Super Mario Bros. Movie   Released              English  100000000.0   \n",
       "3                       Momias   Released   Spanish, Castilian   12300000.0   \n",
       "4                    Supercell   Released              English   77000000.0   \n",
       "\n",
       "        revenue country  \n",
       "0  2.716167e+08      AU  \n",
       "1  2.316795e+09      AU  \n",
       "2  7.244590e+08      AU  \n",
       "3  3.420000e+07      AU  \n",
       "4  3.409420e+08      US  "
      ]
     },
     "execution_count": 4,
     "metadata": {},
     "output_type": "execute_result"
    }
   ],
   "source": [
    "df = pd.read_csv('csv/imdb_movies.csv')\n",
    "df.head()"
   ]
  },
  {
   "cell_type": "code",
   "execution_count": 5,
   "metadata": {
    "execution": {
     "iopub.execute_input": "2025-05-14T21:48:00.404107Z",
     "iopub.status.busy": "2025-05-14T21:48:00.403972Z",
     "iopub.status.idle": "2025-05-14T21:48:00.422901Z",
     "shell.execute_reply": "2025-05-14T21:48:00.422367Z",
     "shell.execute_reply.started": "2025-05-14T21:48:00.404095Z"
    }
   },
   "outputs": [],
   "source": [
    "df['date_x'] = df['date_x'].str.strip().replace('', pd.NA)\n",
    "df = df.dropna(subset=['date_x'])\n",
    "df['date_x'] = pd.to_datetime(df['date_x'], format='%m/%d/%Y', errors='coerce')"
   ]
  },
  {
   "cell_type": "code",
   "execution_count": 6,
   "metadata": {
    "execution": {
     "iopub.execute_input": "2025-05-14T21:48:01.156461Z",
     "iopub.status.busy": "2025-05-14T21:48:01.155905Z",
     "iopub.status.idle": "2025-05-14T21:48:01.166296Z",
     "shell.execute_reply": "2025-05-14T21:48:01.165447Z",
     "shell.execute_reply.started": "2025-05-14T21:48:01.156406Z"
    }
   },
   "outputs": [
    {
     "data": {
      "text/plain": [
       "names                 object\n",
       "date_x        datetime64[ns]\n",
       "score                float64\n",
       "genre                 object\n",
       "overview              object\n",
       "crew                  object\n",
       "orig_title            object\n",
       "status                object\n",
       "orig_lang             object\n",
       "budget_x             float64\n",
       "revenue              float64\n",
       "country               object\n",
       "dtype: object"
      ]
     },
     "execution_count": 6,
     "metadata": {},
     "output_type": "execute_result"
    }
   ],
   "source": [
    "df.dtypes"
   ]
  },
  {
   "cell_type": "code",
   "execution_count": 7,
   "metadata": {
    "execution": {
     "iopub.execute_input": "2025-05-14T21:48:01.971240Z",
     "iopub.status.busy": "2025-05-14T21:48:01.970755Z",
     "iopub.status.idle": "2025-05-14T21:48:02.257874Z",
     "shell.execute_reply": "2025-05-14T21:48:02.257451Z",
     "shell.execute_reply.started": "2025-05-14T21:48:01.971191Z"
    }
   },
   "outputs": [
    {
     "data": {
      "text/html": [
       "<div>\n",
       "<style scoped>\n",
       "    .dataframe tbody tr th:only-of-type {\n",
       "        vertical-align: middle;\n",
       "    }\n",
       "\n",
       "    .dataframe tbody tr th {\n",
       "        vertical-align: top;\n",
       "    }\n",
       "\n",
       "    .dataframe thead th {\n",
       "        text-align: right;\n",
       "    }\n",
       "</style>\n",
       "<table border=\"1\" class=\"dataframe\">\n",
       "  <thead>\n",
       "    <tr style=\"text-align: right;\">\n",
       "      <th></th>\n",
       "      <th>names</th>\n",
       "      <th>date_x</th>\n",
       "      <th>score</th>\n",
       "      <th>genre</th>\n",
       "      <th>overview</th>\n",
       "      <th>crew</th>\n",
       "      <th>orig_title</th>\n",
       "      <th>status</th>\n",
       "      <th>orig_lang</th>\n",
       "      <th>budget_x</th>\n",
       "      <th>revenue</th>\n",
       "      <th>country</th>\n",
       "    </tr>\n",
       "  </thead>\n",
       "  <tbody>\n",
       "    <tr>\n",
       "      <th>0</th>\n",
       "      <td>Creed III</td>\n",
       "      <td>2023-03-02 00:00:00</td>\n",
       "      <td>73.0</td>\n",
       "      <td>Drama, Action</td>\n",
       "      <td>After dominating the boxing world, Adonis Cree...</td>\n",
       "      <td>Michael B. Jordan, Adonis Creed, Tessa Thompso...</td>\n",
       "      <td>Creed III</td>\n",
       "      <td>Released</td>\n",
       "      <td>English</td>\n",
       "      <td>75000000.0</td>\n",
       "      <td>271616668.0</td>\n",
       "      <td>AU</td>\n",
       "    </tr>\n",
       "    <tr>\n",
       "      <th>1</th>\n",
       "      <td>Avatar: The Way of Water</td>\n",
       "      <td>2022-12-15 00:00:00</td>\n",
       "      <td>78.0</td>\n",
       "      <td>Science Fiction, Adventure, Action</td>\n",
       "      <td>Set more than a decade after the events of the...</td>\n",
       "      <td>Sam Worthington, Jake Sully, Zoe Saldaña, Neyt...</td>\n",
       "      <td>Avatar: The Way of Water</td>\n",
       "      <td>Released</td>\n",
       "      <td>English</td>\n",
       "      <td>460000000.0</td>\n",
       "      <td>2316794914.0</td>\n",
       "      <td>AU</td>\n",
       "    </tr>\n",
       "    <tr>\n",
       "      <th>2</th>\n",
       "      <td>The Super Mario Bros. Movie</td>\n",
       "      <td>2023-04-05 00:00:00</td>\n",
       "      <td>76.0</td>\n",
       "      <td>Animation, Adventure, Family, Fantasy, Comedy</td>\n",
       "      <td>While working underground to fix a water main,...</td>\n",
       "      <td>Chris Pratt, Mario (voice), Anya Taylor-Joy, P...</td>\n",
       "      <td>The Super Mario Bros. Movie</td>\n",
       "      <td>Released</td>\n",
       "      <td>English</td>\n",
       "      <td>100000000.0</td>\n",
       "      <td>724459031.0</td>\n",
       "      <td>AU</td>\n",
       "    </tr>\n",
       "    <tr>\n",
       "      <th>3</th>\n",
       "      <td>John Wick: Chapter 4</td>\n",
       "      <td>2023-03-23 00:00:00</td>\n",
       "      <td>80.0</td>\n",
       "      <td>Action, Thriller, Crime</td>\n",
       "      <td>With the price on his head ever increasing, Jo...</td>\n",
       "      <td>Keanu Reeves, John Wick, Donnie Yen, Caine, Bi...</td>\n",
       "      <td>John Wick: Chapter 4</td>\n",
       "      <td>Released</td>\n",
       "      <td>English</td>\n",
       "      <td>100000000.0</td>\n",
       "      <td>351349364.0</td>\n",
       "      <td>AU</td>\n",
       "    </tr>\n",
       "    <tr>\n",
       "      <th>4</th>\n",
       "      <td>Puss in Boots: The Last Wish</td>\n",
       "      <td>2022-12-26 00:00:00</td>\n",
       "      <td>83.0</td>\n",
       "      <td>Animation, Family, Fantasy, Adventure, Comedy</td>\n",
       "      <td>Puss in Boots discovers that his passion for a...</td>\n",
       "      <td>Antonio Banderas, Puss in Boots (voice), Salma...</td>\n",
       "      <td>Puss in Boots: The Last Wish</td>\n",
       "      <td>Released</td>\n",
       "      <td>English</td>\n",
       "      <td>90000000.0</td>\n",
       "      <td>483480577.0</td>\n",
       "      <td>AU</td>\n",
       "    </tr>\n",
       "  </tbody>\n",
       "</table>\n",
       "</div>"
      ],
      "text/plain": [
       "                          names               date_x score  \\\n",
       "0                     Creed III  2023-03-02 00:00:00  73.0   \n",
       "1      Avatar: The Way of Water  2022-12-15 00:00:00  78.0   \n",
       "2   The Super Mario Bros. Movie  2023-04-05 00:00:00  76.0   \n",
       "3          John Wick: Chapter 4  2023-03-23 00:00:00  80.0   \n",
       "4  Puss in Boots: The Last Wish  2022-12-26 00:00:00  83.0   \n",
       "\n",
       "                                           genre  \\\n",
       "0                                  Drama, Action   \n",
       "1             Science Fiction, Adventure, Action   \n",
       "2  Animation, Adventure, Family, Fantasy, Comedy   \n",
       "3                        Action, Thriller, Crime   \n",
       "4  Animation, Family, Fantasy, Adventure, Comedy   \n",
       "\n",
       "                                            overview  \\\n",
       "0  After dominating the boxing world, Adonis Cree...   \n",
       "1  Set more than a decade after the events of the...   \n",
       "2  While working underground to fix a water main,...   \n",
       "3  With the price on his head ever increasing, Jo...   \n",
       "4  Puss in Boots discovers that his passion for a...   \n",
       "\n",
       "                                                crew  \\\n",
       "0  Michael B. Jordan, Adonis Creed, Tessa Thompso...   \n",
       "1  Sam Worthington, Jake Sully, Zoe Saldaña, Neyt...   \n",
       "2  Chris Pratt, Mario (voice), Anya Taylor-Joy, P...   \n",
       "3  Keanu Reeves, John Wick, Donnie Yen, Caine, Bi...   \n",
       "4  Antonio Banderas, Puss in Boots (voice), Salma...   \n",
       "\n",
       "                     orig_title     status orig_lang     budget_x  \\\n",
       "0                     Creed III   Released   English   75000000.0   \n",
       "1      Avatar: The Way of Water   Released   English  460000000.0   \n",
       "2   The Super Mario Bros. Movie   Released   English  100000000.0   \n",
       "3          John Wick: Chapter 4   Released   English  100000000.0   \n",
       "4  Puss in Boots: The Last Wish   Released   English   90000000.0   \n",
       "\n",
       "        revenue country  \n",
       "0   271616668.0      AU  \n",
       "1  2316794914.0      AU  \n",
       "2   724459031.0      AU  \n",
       "3   351349364.0      AU  \n",
       "4   483480577.0      AU  "
      ]
     },
     "execution_count": 7,
     "metadata": {},
     "output_type": "execute_result"
    }
   ],
   "source": [
    "# df_filtered = df[df['date_x'].dt.year > 2020]\n",
    "df_recente = pd.DataFrame()\n",
    "\n",
    "# Pega linhas com ano DEPOIS de 2020 e nota MAIOR ou IGUAl a 70.0\n",
    "for idx, row in df.iterrows():\n",
    "    ano = row['date_x'].year\n",
    "    score = row['score']\n",
    "    # print(score > 70)\n",
    "    if ano >= 2020 and score > 70.0:\n",
    "        # print('   Entrou mesmo assim')\n",
    "        df_recente = pd.concat([df_recente, row.to_frame().T], ignore_index=True)\n",
    "\n",
    "# Apaga as linhas com valores NaN\n",
    "df_recente.dropna(subset='names')\n",
    "df_recente.head()"
   ]
  },
  {
   "cell_type": "code",
   "execution_count": 8,
   "metadata": {
    "execution": {
     "iopub.execute_input": "2025-05-14T21:48:02.586523Z",
     "iopub.status.busy": "2025-05-14T21:48:02.585707Z",
     "iopub.status.idle": "2025-05-14T21:48:02.604856Z",
     "shell.execute_reply": "2025-05-14T21:48:02.604401Z",
     "shell.execute_reply.started": "2025-05-14T21:48:02.586461Z"
    }
   },
   "outputs": [
    {
     "data": {
      "text/html": [
       "<div>\n",
       "<style scoped>\n",
       "    .dataframe tbody tr th:only-of-type {\n",
       "        vertical-align: middle;\n",
       "    }\n",
       "\n",
       "    .dataframe tbody tr th {\n",
       "        vertical-align: top;\n",
       "    }\n",
       "\n",
       "    .dataframe thead th {\n",
       "        text-align: right;\n",
       "    }\n",
       "</style>\n",
       "<table border=\"1\" class=\"dataframe\">\n",
       "  <thead>\n",
       "    <tr style=\"text-align: right;\">\n",
       "      <th></th>\n",
       "      <th>names</th>\n",
       "      <th>date_x</th>\n",
       "      <th>score</th>\n",
       "      <th>genre</th>\n",
       "      <th>overview</th>\n",
       "      <th>crew</th>\n",
       "      <th>orig_title</th>\n",
       "      <th>status</th>\n",
       "      <th>orig_lang</th>\n",
       "      <th>budget_x</th>\n",
       "      <th>revenue</th>\n",
       "      <th>country</th>\n",
       "    </tr>\n",
       "  </thead>\n",
       "  <tbody>\n",
       "    <tr>\n",
       "      <th>0</th>\n",
       "      <td>Creed III</td>\n",
       "      <td>2023-03-02 00:00:00</td>\n",
       "      <td>73.0</td>\n",
       "      <td>Drama, Action</td>\n",
       "      <td>After dominating the boxing world, Adonis Cree...</td>\n",
       "      <td>Michael B. Jordan, Adonis Creed, Tessa Thompso...</td>\n",
       "      <td>Creed III</td>\n",
       "      <td>Released</td>\n",
       "      <td>English</td>\n",
       "      <td>75000000.0</td>\n",
       "      <td>271616668.0</td>\n",
       "      <td>AU</td>\n",
       "    </tr>\n",
       "    <tr>\n",
       "      <th>1</th>\n",
       "      <td>Avatar: The Way of Water</td>\n",
       "      <td>2022-12-15 00:00:00</td>\n",
       "      <td>78.0</td>\n",
       "      <td>Science Fiction, Adventure, Action</td>\n",
       "      <td>Set more than a decade after the events of the...</td>\n",
       "      <td>Sam Worthington, Jake Sully, Zoe Saldaña, Neyt...</td>\n",
       "      <td>Avatar: The Way of Water</td>\n",
       "      <td>Released</td>\n",
       "      <td>English</td>\n",
       "      <td>460000000.0</td>\n",
       "      <td>2316794914.0</td>\n",
       "      <td>AU</td>\n",
       "    </tr>\n",
       "    <tr>\n",
       "      <th>2</th>\n",
       "      <td>The Super Mario Bros. Movie</td>\n",
       "      <td>2023-04-05 00:00:00</td>\n",
       "      <td>76.0</td>\n",
       "      <td>Animation, Adventure, Family, Fantasy, Comedy</td>\n",
       "      <td>While working underground to fix a water main,...</td>\n",
       "      <td>Chris Pratt, Mario (voice), Anya Taylor-Joy, P...</td>\n",
       "      <td>The Super Mario Bros. Movie</td>\n",
       "      <td>Released</td>\n",
       "      <td>English</td>\n",
       "      <td>100000000.0</td>\n",
       "      <td>724459031.0</td>\n",
       "      <td>AU</td>\n",
       "    </tr>\n",
       "    <tr>\n",
       "      <th>3</th>\n",
       "      <td>John Wick: Chapter 4</td>\n",
       "      <td>2023-03-23 00:00:00</td>\n",
       "      <td>80.0</td>\n",
       "      <td>Action, Thriller, Crime</td>\n",
       "      <td>With the price on his head ever increasing, Jo...</td>\n",
       "      <td>Keanu Reeves, John Wick, Donnie Yen, Caine, Bi...</td>\n",
       "      <td>John Wick: Chapter 4</td>\n",
       "      <td>Released</td>\n",
       "      <td>English</td>\n",
       "      <td>100000000.0</td>\n",
       "      <td>351349364.0</td>\n",
       "      <td>AU</td>\n",
       "    </tr>\n",
       "    <tr>\n",
       "      <th>4</th>\n",
       "      <td>Puss in Boots: The Last Wish</td>\n",
       "      <td>2022-12-26 00:00:00</td>\n",
       "      <td>83.0</td>\n",
       "      <td>Animation, Family, Fantasy, Adventure, Comedy</td>\n",
       "      <td>Puss in Boots discovers that his passion for a...</td>\n",
       "      <td>Antonio Banderas, Puss in Boots (voice), Salma...</td>\n",
       "      <td>Puss in Boots: The Last Wish</td>\n",
       "      <td>Released</td>\n",
       "      <td>English</td>\n",
       "      <td>90000000.0</td>\n",
       "      <td>483480577.0</td>\n",
       "      <td>AU</td>\n",
       "    </tr>\n",
       "    <tr>\n",
       "      <th>...</th>\n",
       "      <td>...</td>\n",
       "      <td>...</td>\n",
       "      <td>...</td>\n",
       "      <td>...</td>\n",
       "      <td>...</td>\n",
       "      <td>...</td>\n",
       "      <td>...</td>\n",
       "      <td>...</td>\n",
       "      <td>...</td>\n",
       "      <td>...</td>\n",
       "      <td>...</td>\n",
       "      <td>...</td>\n",
       "    </tr>\n",
       "    <tr>\n",
       "      <th>688</th>\n",
       "      <td>Flee</td>\n",
       "      <td>2022-02-17 00:00:00</td>\n",
       "      <td>78.0</td>\n",
       "      <td>Documentary, Animation</td>\n",
       "      <td>Recounted mostly through animation to tell a g...</td>\n",
       "      <td>Amin Nawabi, Self (voice), Daniel Karimyar, Am...</td>\n",
       "      <td>Flugt</td>\n",
       "      <td>Released</td>\n",
       "      <td>Danish</td>\n",
       "      <td>3400000.0</td>\n",
       "      <td>440544.0</td>\n",
       "      <td>AU</td>\n",
       "    </tr>\n",
       "    <tr>\n",
       "      <th>689</th>\n",
       "      <td>The Secret to Be Told: Relationship With My Aunt</td>\n",
       "      <td>2020-07-06 00:00:00</td>\n",
       "      <td>73.0</td>\n",
       "      <td>Drama, Romance</td>\n",
       "      <td>Minwoo falls in love with an aunt younger than...</td>\n",
       "      <td>Yoo Jung, , Ahn So-hee, , James, , Kang Min-woo,</td>\n",
       "      <td>말할 수 없는 비밀 : 이모와의 관계</td>\n",
       "      <td>Released</td>\n",
       "      <td>Korean</td>\n",
       "      <td>58000000.0</td>\n",
       "      <td>626713614.8</td>\n",
       "      <td>KR</td>\n",
       "    </tr>\n",
       "    <tr>\n",
       "      <th>690</th>\n",
       "      <td>Dragons: Rescue Riders: Secrets of the Songwing</td>\n",
       "      <td>2020-07-24 00:00:00</td>\n",
       "      <td>78.0</td>\n",
       "      <td>Animation, Family, TV Movie</td>\n",
       "      <td>When a musical dragon with a beautiful voice h...</td>\n",
       "      <td>Noah Kaye Bentley, Burple (voice), Brennley Br...</td>\n",
       "      <td>Dragons: Rescue Riders: Secrets of the Songwing</td>\n",
       "      <td>Released</td>\n",
       "      <td>English</td>\n",
       "      <td>62000000.0</td>\n",
       "      <td>183866850.0</td>\n",
       "      <td>US</td>\n",
       "    </tr>\n",
       "    <tr>\n",
       "      <th>691</th>\n",
       "      <td>K.G.F: Chapter 2</td>\n",
       "      <td>2022-04-14 00:00:00</td>\n",
       "      <td>76.0</td>\n",
       "      <td>Action, Crime, Drama</td>\n",
       "      <td>The blood-soaked land of Kolar Gold Fields (KG...</td>\n",
       "      <td>Yash, Raja Krishnappa Bairya 'Rocky', Sanjay D...</td>\n",
       "      <td>ಕೆ.ಜಿ.ಎಫ್: Chapter 2</td>\n",
       "      <td>Released</td>\n",
       "      <td>Kannada</td>\n",
       "      <td>13000000.0</td>\n",
       "      <td>90410749.0</td>\n",
       "      <td>IN</td>\n",
       "    </tr>\n",
       "    <tr>\n",
       "      <th>692</th>\n",
       "      <td>Marshall</td>\n",
       "      <td>2020-06-07 00:00:00</td>\n",
       "      <td>73.0</td>\n",
       "      <td>Drama</td>\n",
       "      <td>Thurgood Marshall, the first African-American ...</td>\n",
       "      <td>Chadwick Boseman, Thurgood Marshall, Josh Gad,...</td>\n",
       "      <td>Marshall</td>\n",
       "      <td>Released</td>\n",
       "      <td>English</td>\n",
       "      <td>12000000.0</td>\n",
       "      <td>10116816.0</td>\n",
       "      <td>AU</td>\n",
       "    </tr>\n",
       "  </tbody>\n",
       "</table>\n",
       "<p>688 rows × 12 columns</p>\n",
       "</div>"
      ],
      "text/plain": [
       "                                                names               date_x  \\\n",
       "0                                           Creed III  2023-03-02 00:00:00   \n",
       "1                            Avatar: The Way of Water  2022-12-15 00:00:00   \n",
       "2                         The Super Mario Bros. Movie  2023-04-05 00:00:00   \n",
       "3                                John Wick: Chapter 4  2023-03-23 00:00:00   \n",
       "4                        Puss in Boots: The Last Wish  2022-12-26 00:00:00   \n",
       "..                                                ...                  ...   \n",
       "688                                              Flee  2022-02-17 00:00:00   \n",
       "689  The Secret to Be Told: Relationship With My Aunt  2020-07-06 00:00:00   \n",
       "690   Dragons: Rescue Riders: Secrets of the Songwing  2020-07-24 00:00:00   \n",
       "691                                  K.G.F: Chapter 2  2022-04-14 00:00:00   \n",
       "692                                          Marshall  2020-06-07 00:00:00   \n",
       "\n",
       "    score                                          genre  \\\n",
       "0    73.0                                  Drama, Action   \n",
       "1    78.0             Science Fiction, Adventure, Action   \n",
       "2    76.0  Animation, Adventure, Family, Fantasy, Comedy   \n",
       "3    80.0                        Action, Thriller, Crime   \n",
       "4    83.0  Animation, Family, Fantasy, Adventure, Comedy   \n",
       "..    ...                                            ...   \n",
       "688  78.0                         Documentary, Animation   \n",
       "689  73.0                                 Drama, Romance   \n",
       "690  78.0                    Animation, Family, TV Movie   \n",
       "691  76.0                           Action, Crime, Drama   \n",
       "692  73.0                                          Drama   \n",
       "\n",
       "                                              overview  \\\n",
       "0    After dominating the boxing world, Adonis Cree...   \n",
       "1    Set more than a decade after the events of the...   \n",
       "2    While working underground to fix a water main,...   \n",
       "3    With the price on his head ever increasing, Jo...   \n",
       "4    Puss in Boots discovers that his passion for a...   \n",
       "..                                                 ...   \n",
       "688  Recounted mostly through animation to tell a g...   \n",
       "689  Minwoo falls in love with an aunt younger than...   \n",
       "690  When a musical dragon with a beautiful voice h...   \n",
       "691  The blood-soaked land of Kolar Gold Fields (KG...   \n",
       "692  Thurgood Marshall, the first African-American ...   \n",
       "\n",
       "                                                  crew  \\\n",
       "0    Michael B. Jordan, Adonis Creed, Tessa Thompso...   \n",
       "1    Sam Worthington, Jake Sully, Zoe Saldaña, Neyt...   \n",
       "2    Chris Pratt, Mario (voice), Anya Taylor-Joy, P...   \n",
       "3    Keanu Reeves, John Wick, Donnie Yen, Caine, Bi...   \n",
       "4    Antonio Banderas, Puss in Boots (voice), Salma...   \n",
       "..                                                 ...   \n",
       "688  Amin Nawabi, Self (voice), Daniel Karimyar, Am...   \n",
       "689  Yoo Jung, , Ahn So-hee, , James, , Kang Min-woo,    \n",
       "690  Noah Kaye Bentley, Burple (voice), Brennley Br...   \n",
       "691  Yash, Raja Krishnappa Bairya 'Rocky', Sanjay D...   \n",
       "692  Chadwick Boseman, Thurgood Marshall, Josh Gad,...   \n",
       "\n",
       "                                          orig_title     status orig_lang  \\\n",
       "0                                          Creed III   Released   English   \n",
       "1                           Avatar: The Way of Water   Released   English   \n",
       "2                        The Super Mario Bros. Movie   Released   English   \n",
       "3                               John Wick: Chapter 4   Released   English   \n",
       "4                       Puss in Boots: The Last Wish   Released   English   \n",
       "..                                               ...        ...       ...   \n",
       "688                                            Flugt   Released    Danish   \n",
       "689                             말할 수 없는 비밀 : 이모와의 관계   Released    Korean   \n",
       "690  Dragons: Rescue Riders: Secrets of the Songwing   Released   English   \n",
       "691                             ಕೆ.ಜಿ.ಎಫ್: Chapter 2   Released   Kannada   \n",
       "692                                         Marshall   Released   English   \n",
       "\n",
       "        budget_x       revenue country  \n",
       "0     75000000.0   271616668.0      AU  \n",
       "1    460000000.0  2316794914.0      AU  \n",
       "2    100000000.0   724459031.0      AU  \n",
       "3    100000000.0   351349364.0      AU  \n",
       "4     90000000.0   483480577.0      AU  \n",
       "..           ...           ...     ...  \n",
       "688    3400000.0      440544.0      AU  \n",
       "689   58000000.0   626713614.8      KR  \n",
       "690   62000000.0   183866850.0      US  \n",
       "691   13000000.0    90410749.0      IN  \n",
       "692   12000000.0    10116816.0      AU  \n",
       "\n",
       "[688 rows x 12 columns]"
      ]
     },
     "execution_count": 8,
     "metadata": {},
     "output_type": "execute_result"
    }
   ],
   "source": [
    "df_recente.head()\n",
    "\n",
    "# Deleta duplicados (GRRRRRR)\n",
    "df_recente.drop_duplicates(subset=['names'])"
   ]
  },
  {
   "cell_type": "code",
   "execution_count": 9,
   "metadata": {
    "execution": {
     "iopub.execute_input": "2025-05-14T21:48:03.087630Z",
     "iopub.status.busy": "2025-05-14T21:48:03.087182Z",
     "iopub.status.idle": "2025-05-14T21:48:03.092961Z",
     "shell.execute_reply": "2025-05-14T21:48:03.092430Z",
     "shell.execute_reply.started": "2025-05-14T21:48:03.087606Z"
    }
   },
   "outputs": [
    {
     "name": "stdout",
     "output_type": "stream",
     "text": [
      "Empty DataFrame\n",
      "Columns: [names, date_x, score, genre, overview, crew, orig_title, status, orig_lang, budget_x, revenue, country]\n",
      "Index: []\n"
     ]
    }
   ],
   "source": [
    "df_recente.drop_duplicates(subset='names', inplace=True)\n",
    "print(df_recente[df_recente.duplicated(subset='names', keep=False)])"
   ]
  },
  {
   "cell_type": "markdown",
   "metadata": {},
   "source": [
    "## Criando o Grafo"
   ]
  },
  {
   "cell_type": "code",
   "execution_count": 10,
   "metadata": {
    "execution": {
     "iopub.execute_input": "2025-05-14T21:48:03.141599Z",
     "iopub.status.busy": "2025-05-14T21:48:03.141315Z",
     "iopub.status.idle": "2025-05-14T21:48:03.153693Z",
     "shell.execute_reply": "2025-05-14T21:48:03.153300Z",
     "shell.execute_reply.started": "2025-05-14T21:48:03.141584Z"
    }
   },
   "outputs": [],
   "source": [
    "# Peguei essa logica da Aula 3, qualquer coisa da uma olhada\n",
    "g = gte.Graph(directed=False) # igual a gte.Graph(), pois directed é falso por padrão\n",
    "\n",
    "g.add_vp('color')"
   ]
  },
  {
   "cell_type": "code",
   "execution_count": 11,
   "metadata": {
    "execution": {
     "iopub.execute_input": "2025-05-14T21:48:03.172642Z",
     "iopub.status.busy": "2025-05-14T21:48:03.172446Z",
     "iopub.status.idle": "2025-05-14T21:48:03.196158Z",
     "shell.execute_reply": "2025-05-14T21:48:03.195401Z",
     "shell.execute_reply.started": "2025-05-14T21:48:03.172629Z"
    }
   },
   "outputs": [],
   "source": [
    "filmes = []\n",
    "for nome in df_recente['names']:\n",
    "    f = g.add_vertex_by_id(nome)\n",
    "    f['color'] = 0xfffff0\n",
    "    filmes.append(f)"
   ]
  },
  {
   "cell_type": "code",
   "execution_count": 12,
   "metadata": {
    "execution": {
     "iopub.execute_input": "2025-05-14T21:48:03.206378Z",
     "iopub.status.busy": "2025-05-14T21:48:03.206185Z",
     "iopub.status.idle": "2025-05-14T21:48:03.208618Z",
     "shell.execute_reply": "2025-05-14T21:48:03.208327Z",
     "shell.execute_reply.started": "2025-05-14T21:48:03.206367Z"
    }
   },
   "outputs": [],
   "source": [
    "# pos = gte.layout_bipartite(g, v_tipo)\n",
    "\n",
    "# graph_draw(g, pos=pos, vertex_text=v_tipo, output_size=(400, 400), output=\"rede_bipartida.png\")"
   ]
  },
  {
   "cell_type": "code",
   "execution_count": 13,
   "metadata": {
    "execution": {
     "iopub.execute_input": "2025-05-14T21:48:03.234637Z",
     "iopub.status.busy": "2025-05-14T21:48:03.234379Z",
     "iopub.status.idle": "2025-05-14T21:48:03.243128Z",
     "shell.execute_reply": "2025-05-14T21:48:03.242354Z",
     "shell.execute_reply.started": "2025-05-14T21:48:03.234627Z"
    }
   },
   "outputs": [],
   "source": [
    "# Criando o vertice de generos. Antes de fazer isso temos q separar os generos de cada filme, por exemplo: em um filme q tenha Drama, Action como generos, \n",
    "# temos q criar uma lista com os dois separados\n",
    "generos = set()\n",
    "genero = []\n",
    "for genre in df_recente['genre']:\n",
    "    w = g.vertex_by_id(genre)\n",
    "    # print([genre])\n",
    "    for ga in genre.split(','):\n",
    "        g_limpo = ga.strip()\n",
    "        genero.append(g_limpo)\n",
    "    generos.update(genero)\n",
    "\n",
    "lista_generos = sorted(list(generos))\n",
    "\n",
    "mat_zerada = np.zeros((len(lista_generos), len(lista_generos)))\n",
    "matriz_gen = pd.DataFrame(mat_zerada, columns=lista_generos, index=lista_generos)"
   ]
  },
  {
   "cell_type": "code",
   "execution_count": 14,
   "metadata": {
    "execution": {
     "iopub.execute_input": "2025-05-14T21:48:03.262911Z",
     "iopub.status.busy": "2025-05-14T21:48:03.262530Z",
     "iopub.status.idle": "2025-05-14T21:48:03.265967Z",
     "shell.execute_reply": "2025-05-14T21:48:03.265333Z",
     "shell.execute_reply.started": "2025-05-14T21:48:03.262898Z"
    }
   },
   "outputs": [],
   "source": [
    "from pprint import pprint"
   ]
  },
  {
   "cell_type": "code",
   "execution_count": 15,
   "metadata": {
    "execution": {
     "iopub.execute_input": "2025-05-14T21:48:03.293146Z",
     "iopub.status.busy": "2025-05-14T21:48:03.292928Z",
     "iopub.status.idle": "2025-05-14T21:48:03.300868Z",
     "shell.execute_reply": "2025-05-14T21:48:03.300331Z",
     "shell.execute_reply.started": "2025-05-14T21:48:03.293136Z"
    }
   },
   "outputs": [
    {
     "name": "stdout",
     "output_type": "stream",
     "text": [
      "Media [%] por categoria: \n",
      "{'Action': 5.555555555555555,\n",
      " 'Adventure': 5.554444444444442,\n",
      " 'Animation': 5.556111111111111,\n",
      " 'Comedy': 5.555555555555556,\n",
      " 'Crime': 5.5566666666666675,\n",
      " 'Documentary': 5.555,\n",
      " 'Drama': 5.555555555555556,\n",
      " 'Family': 5.554999999999999,\n",
      " 'Fantasy': 5.555555555555555,\n",
      " 'History': 5.55611111111111,\n",
      " 'Horror': 5.555,\n",
      " 'Music': 5.555555555555555,\n",
      " 'Mystery': 5.554999999999999,\n",
      " 'Romance': 5.557222222222222,\n",
      " 'Science Fiction': 5.555000000000001,\n",
      " 'TV Movie': 5.555555555555555,\n",
      " 'Thriller': 5.553888888888888,\n",
      " 'War': 5.556111111111111,\n",
      " 'Western': 5.5572222222222205}\n"
     ]
    },
    {
     "data": {
      "text/plain": [
       "19"
      ]
     },
     "execution_count": 15,
     "metadata": {},
     "output_type": "execute_result"
    }
   ],
   "source": [
    "# Cria dicionario para salvar ocorrencias\n",
    "conexoes_gen = {}\n",
    "for g_prim in generos:\n",
    "    conexoes_gen[g_prim] = { 'Total' : 0}\n",
    "    for g_sec in generos:\n",
    "        if g_sec != g_prim:\n",
    "            conexoes_gen[g_prim][g_sec] = 0\n",
    "            # print('Criou')\n",
    "# pprint(conexoes_gen)\n",
    "# Ocorrencias de apararecer juntas\n",
    "for genres in df_recente['genre']:\n",
    "    for ga in genres.split(','):\n",
    "        ga = ga.strip()\n",
    "        # print(f'GA: {ga}')\n",
    "        for gb in genres.split(','):\n",
    "            gb = gb.strip()\n",
    "            if ga != gb:\n",
    "                # print(f'    GB: {gb}')\n",
    "                conexoes_gen[ga][gb] += 1\n",
    "                conexoes_gen[ga]['Total'] += 1\n",
    "\n",
    "# pprint(conexoes_gen)\n",
    "percents = {}\n",
    "percents_mean = {}\n",
    "# Porcentagem de aparição de cada filme em relação a outro\n",
    "for genA in conexoes_gen:\n",
    "    # r_genA = repr(genA)[1:-1]\n",
    "    # print(f'GA: {genA}')\n",
    "    # print(f'raw GA: {r_genA}')\n",
    "    percents[genA] = {}\n",
    "    mean_p = 0\n",
    "    for genB in conexoes_gen[genA]:\n",
    "        # r_genB = repr(genB)[1:-1]\n",
    "        # print(f'    GB: {genB}')\n",
    "        # print(f'    raw GB: {r_genB}')\n",
    "        if genB != 'Total':\n",
    "            percents[genA][genB] = round(conexoes_gen[genA][genB] * 100 / conexoes_gen[genA]['Total'], 2)\n",
    "            mean_p += round(conexoes_gen[genA][genB] * 100 / conexoes_gen[genA]['Total'], 2)\n",
    "    mean_p /= (len(conexoes_gen[genA]) - 1)\n",
    "    percents_mean[genA] = mean_p\n",
    "    \n",
    "# pprint(percents)\n",
    "\n",
    "# Media de 5.55%, aumentamos para 10% para realizar um corte maior para evitar produções incomuns\n",
    "print('Media [%] por categoria: ')\n",
    "pprint(percents_mean)\n",
    "\n",
    "len(percents)"
   ]
  },
  {
   "cell_type": "code",
   "execution_count": 16,
   "metadata": {
    "execution": {
     "iopub.execute_input": "2025-05-14T21:48:03.325701Z",
     "iopub.status.busy": "2025-05-14T21:48:03.325338Z",
     "iopub.status.idle": "2025-05-14T21:48:03.329092Z",
     "shell.execute_reply": "2025-05-14T21:48:03.328348Z",
     "shell.execute_reply.started": "2025-05-14T21:48:03.325690Z"
    }
   },
   "outputs": [],
   "source": [
    "import matplotlib.pyplot as plt"
   ]
  },
  {
   "cell_type": "code",
   "execution_count": 17,
   "metadata": {
    "execution": {
     "iopub.execute_input": "2025-05-14T21:48:03.354930Z",
     "iopub.status.busy": "2025-05-14T21:48:03.354774Z",
     "iopub.status.idle": "2025-05-14T21:48:03.358082Z",
     "shell.execute_reply": "2025-05-14T21:48:03.357443Z",
     "shell.execute_reply.started": "2025-05-14T21:48:03.354920Z"
    }
   },
   "outputs": [],
   "source": [
    "# plt.plot(conexoes_gen['Action'])"
   ]
  },
  {
   "cell_type": "code",
   "execution_count": 18,
   "metadata": {
    "execution": {
     "iopub.execute_input": "2025-05-14T21:48:03.869184Z",
     "iopub.status.busy": "2025-05-14T21:48:03.868837Z",
     "iopub.status.idle": "2025-05-14T21:48:04.090266Z",
     "shell.execute_reply": "2025-05-14T21:48:04.089467Z",
     "shell.execute_reply.started": "2025-05-14T21:48:03.869162Z"
    }
   },
   "outputs": [
    {
     "data": {
      "text/html": [
       "<div>\n",
       "<style scoped>\n",
       "    .dataframe tbody tr th:only-of-type {\n",
       "        vertical-align: middle;\n",
       "    }\n",
       "\n",
       "    .dataframe tbody tr th {\n",
       "        vertical-align: top;\n",
       "    }\n",
       "\n",
       "    .dataframe thead th {\n",
       "        text-align: right;\n",
       "    }\n",
       "</style>\n",
       "<table border=\"1\" class=\"dataframe\">\n",
       "  <thead>\n",
       "    <tr style=\"text-align: right;\">\n",
       "      <th></th>\n",
       "      <th>Action</th>\n",
       "      <th>Adventure</th>\n",
       "      <th>Animation</th>\n",
       "      <th>Comedy</th>\n",
       "      <th>Crime</th>\n",
       "      <th>Documentary</th>\n",
       "      <th>Drama</th>\n",
       "      <th>Family</th>\n",
       "      <th>Fantasy</th>\n",
       "      <th>History</th>\n",
       "      <th>Horror</th>\n",
       "      <th>Music</th>\n",
       "      <th>Mystery</th>\n",
       "      <th>Romance</th>\n",
       "      <th>Science Fiction</th>\n",
       "      <th>TV Movie</th>\n",
       "      <th>Thriller</th>\n",
       "      <th>War</th>\n",
       "      <th>Western</th>\n",
       "    </tr>\n",
       "  </thead>\n",
       "  <tbody>\n",
       "    <tr>\n",
       "      <th>Action</th>\n",
       "      <td>1.0</td>\n",
       "      <td>1.0</td>\n",
       "      <td>1.0</td>\n",
       "      <td>1.0</td>\n",
       "      <td>1.0</td>\n",
       "      <td>0.0</td>\n",
       "      <td>1.0</td>\n",
       "      <td>1.0</td>\n",
       "      <td>1.0</td>\n",
       "      <td>1.0</td>\n",
       "      <td>1.0</td>\n",
       "      <td>0.0</td>\n",
       "      <td>1.0</td>\n",
       "      <td>1.0</td>\n",
       "      <td>1.0</td>\n",
       "      <td>1.0</td>\n",
       "      <td>1.0</td>\n",
       "      <td>1.0</td>\n",
       "      <td>1.0</td>\n",
       "    </tr>\n",
       "    <tr>\n",
       "      <th>Adventure</th>\n",
       "      <td>1.0</td>\n",
       "      <td>1.0</td>\n",
       "      <td>1.0</td>\n",
       "      <td>1.0</td>\n",
       "      <td>1.0</td>\n",
       "      <td>0.0</td>\n",
       "      <td>1.0</td>\n",
       "      <td>1.0</td>\n",
       "      <td>1.0</td>\n",
       "      <td>1.0</td>\n",
       "      <td>1.0</td>\n",
       "      <td>1.0</td>\n",
       "      <td>1.0</td>\n",
       "      <td>1.0</td>\n",
       "      <td>1.0</td>\n",
       "      <td>1.0</td>\n",
       "      <td>1.0</td>\n",
       "      <td>0.0</td>\n",
       "      <td>1.0</td>\n",
       "    </tr>\n",
       "    <tr>\n",
       "      <th>Animation</th>\n",
       "      <td>1.0</td>\n",
       "      <td>1.0</td>\n",
       "      <td>1.0</td>\n",
       "      <td>1.0</td>\n",
       "      <td>1.0</td>\n",
       "      <td>1.0</td>\n",
       "      <td>1.0</td>\n",
       "      <td>1.0</td>\n",
       "      <td>1.0</td>\n",
       "      <td>1.0</td>\n",
       "      <td>1.0</td>\n",
       "      <td>1.0</td>\n",
       "      <td>1.0</td>\n",
       "      <td>1.0</td>\n",
       "      <td>1.0</td>\n",
       "      <td>1.0</td>\n",
       "      <td>1.0</td>\n",
       "      <td>1.0</td>\n",
       "      <td>1.0</td>\n",
       "    </tr>\n",
       "    <tr>\n",
       "      <th>Comedy</th>\n",
       "      <td>1.0</td>\n",
       "      <td>1.0</td>\n",
       "      <td>1.0</td>\n",
       "      <td>1.0</td>\n",
       "      <td>1.0</td>\n",
       "      <td>0.0</td>\n",
       "      <td>1.0</td>\n",
       "      <td>1.0</td>\n",
       "      <td>1.0</td>\n",
       "      <td>1.0</td>\n",
       "      <td>1.0</td>\n",
       "      <td>1.0</td>\n",
       "      <td>1.0</td>\n",
       "      <td>1.0</td>\n",
       "      <td>1.0</td>\n",
       "      <td>1.0</td>\n",
       "      <td>1.0</td>\n",
       "      <td>1.0</td>\n",
       "      <td>0.0</td>\n",
       "    </tr>\n",
       "    <tr>\n",
       "      <th>Crime</th>\n",
       "      <td>1.0</td>\n",
       "      <td>1.0</td>\n",
       "      <td>1.0</td>\n",
       "      <td>1.0</td>\n",
       "      <td>1.0</td>\n",
       "      <td>0.0</td>\n",
       "      <td>1.0</td>\n",
       "      <td>1.0</td>\n",
       "      <td>0.0</td>\n",
       "      <td>1.0</td>\n",
       "      <td>1.0</td>\n",
       "      <td>0.0</td>\n",
       "      <td>1.0</td>\n",
       "      <td>1.0</td>\n",
       "      <td>1.0</td>\n",
       "      <td>1.0</td>\n",
       "      <td>1.0</td>\n",
       "      <td>0.0</td>\n",
       "      <td>0.0</td>\n",
       "    </tr>\n",
       "    <tr>\n",
       "      <th>Documentary</th>\n",
       "      <td>0.0</td>\n",
       "      <td>0.0</td>\n",
       "      <td>1.0</td>\n",
       "      <td>0.0</td>\n",
       "      <td>0.0</td>\n",
       "      <td>1.0</td>\n",
       "      <td>1.0</td>\n",
       "      <td>0.0</td>\n",
       "      <td>0.0</td>\n",
       "      <td>1.0</td>\n",
       "      <td>0.0</td>\n",
       "      <td>1.0</td>\n",
       "      <td>0.0</td>\n",
       "      <td>0.0</td>\n",
       "      <td>0.0</td>\n",
       "      <td>1.0</td>\n",
       "      <td>1.0</td>\n",
       "      <td>0.0</td>\n",
       "      <td>0.0</td>\n",
       "    </tr>\n",
       "    <tr>\n",
       "      <th>Drama</th>\n",
       "      <td>1.0</td>\n",
       "      <td>1.0</td>\n",
       "      <td>1.0</td>\n",
       "      <td>1.0</td>\n",
       "      <td>1.0</td>\n",
       "      <td>1.0</td>\n",
       "      <td>1.0</td>\n",
       "      <td>1.0</td>\n",
       "      <td>1.0</td>\n",
       "      <td>1.0</td>\n",
       "      <td>1.0</td>\n",
       "      <td>1.0</td>\n",
       "      <td>1.0</td>\n",
       "      <td>1.0</td>\n",
       "      <td>1.0</td>\n",
       "      <td>1.0</td>\n",
       "      <td>1.0</td>\n",
       "      <td>1.0</td>\n",
       "      <td>1.0</td>\n",
       "    </tr>\n",
       "    <tr>\n",
       "      <th>Family</th>\n",
       "      <td>1.0</td>\n",
       "      <td>1.0</td>\n",
       "      <td>1.0</td>\n",
       "      <td>1.0</td>\n",
       "      <td>1.0</td>\n",
       "      <td>0.0</td>\n",
       "      <td>1.0</td>\n",
       "      <td>1.0</td>\n",
       "      <td>1.0</td>\n",
       "      <td>0.0</td>\n",
       "      <td>1.0</td>\n",
       "      <td>1.0</td>\n",
       "      <td>1.0</td>\n",
       "      <td>1.0</td>\n",
       "      <td>1.0</td>\n",
       "      <td>1.0</td>\n",
       "      <td>0.0</td>\n",
       "      <td>0.0</td>\n",
       "      <td>1.0</td>\n",
       "    </tr>\n",
       "    <tr>\n",
       "      <th>Fantasy</th>\n",
       "      <td>1.0</td>\n",
       "      <td>1.0</td>\n",
       "      <td>1.0</td>\n",
       "      <td>1.0</td>\n",
       "      <td>0.0</td>\n",
       "      <td>0.0</td>\n",
       "      <td>1.0</td>\n",
       "      <td>1.0</td>\n",
       "      <td>1.0</td>\n",
       "      <td>1.0</td>\n",
       "      <td>1.0</td>\n",
       "      <td>1.0</td>\n",
       "      <td>1.0</td>\n",
       "      <td>1.0</td>\n",
       "      <td>1.0</td>\n",
       "      <td>1.0</td>\n",
       "      <td>1.0</td>\n",
       "      <td>0.0</td>\n",
       "      <td>0.0</td>\n",
       "    </tr>\n",
       "    <tr>\n",
       "      <th>History</th>\n",
       "      <td>1.0</td>\n",
       "      <td>1.0</td>\n",
       "      <td>1.0</td>\n",
       "      <td>1.0</td>\n",
       "      <td>1.0</td>\n",
       "      <td>1.0</td>\n",
       "      <td>1.0</td>\n",
       "      <td>0.0</td>\n",
       "      <td>1.0</td>\n",
       "      <td>1.0</td>\n",
       "      <td>0.0</td>\n",
       "      <td>1.0</td>\n",
       "      <td>1.0</td>\n",
       "      <td>1.0</td>\n",
       "      <td>0.0</td>\n",
       "      <td>0.0</td>\n",
       "      <td>1.0</td>\n",
       "      <td>1.0</td>\n",
       "      <td>0.0</td>\n",
       "    </tr>\n",
       "    <tr>\n",
       "      <th>Horror</th>\n",
       "      <td>1.0</td>\n",
       "      <td>1.0</td>\n",
       "      <td>1.0</td>\n",
       "      <td>1.0</td>\n",
       "      <td>1.0</td>\n",
       "      <td>0.0</td>\n",
       "      <td>1.0</td>\n",
       "      <td>1.0</td>\n",
       "      <td>1.0</td>\n",
       "      <td>0.0</td>\n",
       "      <td>1.0</td>\n",
       "      <td>0.0</td>\n",
       "      <td>1.0</td>\n",
       "      <td>1.0</td>\n",
       "      <td>1.0</td>\n",
       "      <td>1.0</td>\n",
       "      <td>1.0</td>\n",
       "      <td>0.0</td>\n",
       "      <td>0.0</td>\n",
       "    </tr>\n",
       "    <tr>\n",
       "      <th>Music</th>\n",
       "      <td>0.0</td>\n",
       "      <td>1.0</td>\n",
       "      <td>1.0</td>\n",
       "      <td>1.0</td>\n",
       "      <td>0.0</td>\n",
       "      <td>1.0</td>\n",
       "      <td>1.0</td>\n",
       "      <td>1.0</td>\n",
       "      <td>1.0</td>\n",
       "      <td>1.0</td>\n",
       "      <td>0.0</td>\n",
       "      <td>1.0</td>\n",
       "      <td>0.0</td>\n",
       "      <td>1.0</td>\n",
       "      <td>1.0</td>\n",
       "      <td>1.0</td>\n",
       "      <td>0.0</td>\n",
       "      <td>0.0</td>\n",
       "      <td>0.0</td>\n",
       "    </tr>\n",
       "    <tr>\n",
       "      <th>Mystery</th>\n",
       "      <td>1.0</td>\n",
       "      <td>1.0</td>\n",
       "      <td>1.0</td>\n",
       "      <td>1.0</td>\n",
       "      <td>1.0</td>\n",
       "      <td>0.0</td>\n",
       "      <td>1.0</td>\n",
       "      <td>1.0</td>\n",
       "      <td>1.0</td>\n",
       "      <td>1.0</td>\n",
       "      <td>1.0</td>\n",
       "      <td>0.0</td>\n",
       "      <td>1.0</td>\n",
       "      <td>1.0</td>\n",
       "      <td>1.0</td>\n",
       "      <td>0.0</td>\n",
       "      <td>1.0</td>\n",
       "      <td>0.0</td>\n",
       "      <td>0.0</td>\n",
       "    </tr>\n",
       "    <tr>\n",
       "      <th>Romance</th>\n",
       "      <td>1.0</td>\n",
       "      <td>1.0</td>\n",
       "      <td>1.0</td>\n",
       "      <td>1.0</td>\n",
       "      <td>1.0</td>\n",
       "      <td>0.0</td>\n",
       "      <td>1.0</td>\n",
       "      <td>1.0</td>\n",
       "      <td>1.0</td>\n",
       "      <td>1.0</td>\n",
       "      <td>1.0</td>\n",
       "      <td>1.0</td>\n",
       "      <td>1.0</td>\n",
       "      <td>1.0</td>\n",
       "      <td>1.0</td>\n",
       "      <td>1.0</td>\n",
       "      <td>1.0</td>\n",
       "      <td>0.0</td>\n",
       "      <td>1.0</td>\n",
       "    </tr>\n",
       "    <tr>\n",
       "      <th>Science Fiction</th>\n",
       "      <td>1.0</td>\n",
       "      <td>1.0</td>\n",
       "      <td>1.0</td>\n",
       "      <td>1.0</td>\n",
       "      <td>1.0</td>\n",
       "      <td>0.0</td>\n",
       "      <td>1.0</td>\n",
       "      <td>1.0</td>\n",
       "      <td>1.0</td>\n",
       "      <td>0.0</td>\n",
       "      <td>1.0</td>\n",
       "      <td>1.0</td>\n",
       "      <td>1.0</td>\n",
       "      <td>1.0</td>\n",
       "      <td>1.0</td>\n",
       "      <td>1.0</td>\n",
       "      <td>1.0</td>\n",
       "      <td>1.0</td>\n",
       "      <td>0.0</td>\n",
       "    </tr>\n",
       "    <tr>\n",
       "      <th>TV Movie</th>\n",
       "      <td>1.0</td>\n",
       "      <td>1.0</td>\n",
       "      <td>1.0</td>\n",
       "      <td>1.0</td>\n",
       "      <td>1.0</td>\n",
       "      <td>1.0</td>\n",
       "      <td>1.0</td>\n",
       "      <td>1.0</td>\n",
       "      <td>1.0</td>\n",
       "      <td>0.0</td>\n",
       "      <td>1.0</td>\n",
       "      <td>1.0</td>\n",
       "      <td>0.0</td>\n",
       "      <td>1.0</td>\n",
       "      <td>1.0</td>\n",
       "      <td>1.0</td>\n",
       "      <td>1.0</td>\n",
       "      <td>0.0</td>\n",
       "      <td>0.0</td>\n",
       "    </tr>\n",
       "    <tr>\n",
       "      <th>Thriller</th>\n",
       "      <td>1.0</td>\n",
       "      <td>1.0</td>\n",
       "      <td>1.0</td>\n",
       "      <td>1.0</td>\n",
       "      <td>1.0</td>\n",
       "      <td>1.0</td>\n",
       "      <td>1.0</td>\n",
       "      <td>0.0</td>\n",
       "      <td>1.0</td>\n",
       "      <td>1.0</td>\n",
       "      <td>1.0</td>\n",
       "      <td>0.0</td>\n",
       "      <td>1.0</td>\n",
       "      <td>1.0</td>\n",
       "      <td>1.0</td>\n",
       "      <td>1.0</td>\n",
       "      <td>1.0</td>\n",
       "      <td>1.0</td>\n",
       "      <td>1.0</td>\n",
       "    </tr>\n",
       "    <tr>\n",
       "      <th>War</th>\n",
       "      <td>1.0</td>\n",
       "      <td>0.0</td>\n",
       "      <td>1.0</td>\n",
       "      <td>1.0</td>\n",
       "      <td>0.0</td>\n",
       "      <td>0.0</td>\n",
       "      <td>1.0</td>\n",
       "      <td>0.0</td>\n",
       "      <td>0.0</td>\n",
       "      <td>1.0</td>\n",
       "      <td>0.0</td>\n",
       "      <td>0.0</td>\n",
       "      <td>0.0</td>\n",
       "      <td>0.0</td>\n",
       "      <td>1.0</td>\n",
       "      <td>0.0</td>\n",
       "      <td>1.0</td>\n",
       "      <td>1.0</td>\n",
       "      <td>0.0</td>\n",
       "    </tr>\n",
       "    <tr>\n",
       "      <th>Western</th>\n",
       "      <td>1.0</td>\n",
       "      <td>1.0</td>\n",
       "      <td>1.0</td>\n",
       "      <td>0.0</td>\n",
       "      <td>0.0</td>\n",
       "      <td>0.0</td>\n",
       "      <td>1.0</td>\n",
       "      <td>1.0</td>\n",
       "      <td>0.0</td>\n",
       "      <td>0.0</td>\n",
       "      <td>0.0</td>\n",
       "      <td>0.0</td>\n",
       "      <td>0.0</td>\n",
       "      <td>1.0</td>\n",
       "      <td>0.0</td>\n",
       "      <td>0.0</td>\n",
       "      <td>1.0</td>\n",
       "      <td>0.0</td>\n",
       "      <td>1.0</td>\n",
       "    </tr>\n",
       "  </tbody>\n",
       "</table>\n",
       "</div>"
      ],
      "text/plain": [
       "                 Action  Adventure  Animation  Comedy  Crime  Documentary  \\\n",
       "Action              1.0        1.0        1.0     1.0    1.0          0.0   \n",
       "Adventure           1.0        1.0        1.0     1.0    1.0          0.0   \n",
       "Animation           1.0        1.0        1.0     1.0    1.0          1.0   \n",
       "Comedy              1.0        1.0        1.0     1.0    1.0          0.0   \n",
       "Crime               1.0        1.0        1.0     1.0    1.0          0.0   \n",
       "Documentary         0.0        0.0        1.0     0.0    0.0          1.0   \n",
       "Drama               1.0        1.0        1.0     1.0    1.0          1.0   \n",
       "Family              1.0        1.0        1.0     1.0    1.0          0.0   \n",
       "Fantasy             1.0        1.0        1.0     1.0    0.0          0.0   \n",
       "History             1.0        1.0        1.0     1.0    1.0          1.0   \n",
       "Horror              1.0        1.0        1.0     1.0    1.0          0.0   \n",
       "Music               0.0        1.0        1.0     1.0    0.0          1.0   \n",
       "Mystery             1.0        1.0        1.0     1.0    1.0          0.0   \n",
       "Romance             1.0        1.0        1.0     1.0    1.0          0.0   \n",
       "Science Fiction     1.0        1.0        1.0     1.0    1.0          0.0   \n",
       "TV Movie            1.0        1.0        1.0     1.0    1.0          1.0   \n",
       "Thriller            1.0        1.0        1.0     1.0    1.0          1.0   \n",
       "War                 1.0        0.0        1.0     1.0    0.0          0.0   \n",
       "Western             1.0        1.0        1.0     0.0    0.0          0.0   \n",
       "\n",
       "                 Drama  Family  Fantasy  History  Horror  Music  Mystery  \\\n",
       "Action             1.0     1.0      1.0      1.0     1.0    0.0      1.0   \n",
       "Adventure          1.0     1.0      1.0      1.0     1.0    1.0      1.0   \n",
       "Animation          1.0     1.0      1.0      1.0     1.0    1.0      1.0   \n",
       "Comedy             1.0     1.0      1.0      1.0     1.0    1.0      1.0   \n",
       "Crime              1.0     1.0      0.0      1.0     1.0    0.0      1.0   \n",
       "Documentary        1.0     0.0      0.0      1.0     0.0    1.0      0.0   \n",
       "Drama              1.0     1.0      1.0      1.0     1.0    1.0      1.0   \n",
       "Family             1.0     1.0      1.0      0.0     1.0    1.0      1.0   \n",
       "Fantasy            1.0     1.0      1.0      1.0     1.0    1.0      1.0   \n",
       "History            1.0     0.0      1.0      1.0     0.0    1.0      1.0   \n",
       "Horror             1.0     1.0      1.0      0.0     1.0    0.0      1.0   \n",
       "Music              1.0     1.0      1.0      1.0     0.0    1.0      0.0   \n",
       "Mystery            1.0     1.0      1.0      1.0     1.0    0.0      1.0   \n",
       "Romance            1.0     1.0      1.0      1.0     1.0    1.0      1.0   \n",
       "Science Fiction    1.0     1.0      1.0      0.0     1.0    1.0      1.0   \n",
       "TV Movie           1.0     1.0      1.0      0.0     1.0    1.0      0.0   \n",
       "Thriller           1.0     0.0      1.0      1.0     1.0    0.0      1.0   \n",
       "War                1.0     0.0      0.0      1.0     0.0    0.0      0.0   \n",
       "Western            1.0     1.0      0.0      0.0     0.0    0.0      0.0   \n",
       "\n",
       "                 Romance  Science Fiction  TV Movie  Thriller  War  Western  \n",
       "Action               1.0              1.0       1.0       1.0  1.0      1.0  \n",
       "Adventure            1.0              1.0       1.0       1.0  0.0      1.0  \n",
       "Animation            1.0              1.0       1.0       1.0  1.0      1.0  \n",
       "Comedy               1.0              1.0       1.0       1.0  1.0      0.0  \n",
       "Crime                1.0              1.0       1.0       1.0  0.0      0.0  \n",
       "Documentary          0.0              0.0       1.0       1.0  0.0      0.0  \n",
       "Drama                1.0              1.0       1.0       1.0  1.0      1.0  \n",
       "Family               1.0              1.0       1.0       0.0  0.0      1.0  \n",
       "Fantasy              1.0              1.0       1.0       1.0  0.0      0.0  \n",
       "History              1.0              0.0       0.0       1.0  1.0      0.0  \n",
       "Horror               1.0              1.0       1.0       1.0  0.0      0.0  \n",
       "Music                1.0              1.0       1.0       0.0  0.0      0.0  \n",
       "Mystery              1.0              1.0       0.0       1.0  0.0      0.0  \n",
       "Romance              1.0              1.0       1.0       1.0  0.0      1.0  \n",
       "Science Fiction      1.0              1.0       1.0       1.0  1.0      0.0  \n",
       "TV Movie             1.0              1.0       1.0       1.0  0.0      0.0  \n",
       "Thriller             1.0              1.0       1.0       1.0  1.0      1.0  \n",
       "War                  0.0              1.0       0.0       1.0  1.0      0.0  \n",
       "Western              1.0              0.0       0.0       1.0  0.0      1.0  "
      ]
     },
     "metadata": {},
     "output_type": "display_data"
    }
   ],
   "source": [
    "# Popular os dados de generos\n",
    "for gen in df_recente['genre']:\n",
    "    # print(gen)\n",
    "    for ga in gen.split(','):\n",
    "        # print(ga)\n",
    "        ga_limpo = ga.strip()\n",
    "        for gb in gen.split(','):\n",
    "            gb_limpo = gb.strip()\n",
    "            matriz_gen.loc[gb_limpo, ga_limpo] = 1\n",
    "\n",
    "display(matriz_gen)\n",
    "\n",
    "for gen_a in lista_generos:\n",
    "    for gen_b in lista_generos:\n",
    "        if gen_b != gen_a and matriz_gen.loc[gen_b, gen_a] == 1:\n",
    "            # Adiciona a arresta se foram localizados juntos\n",
    "            # print(f'Para {gen_a} e {gen_b}, achamos relacao!')\n",
    "            if g.vertex_by_id(gen_a) is None:\n",
    "                v = g.add_vertex_by_id(gen_a)\n",
    "                v['color'] = 0xff0000\n",
    "                # v_color[v] = \"red\"\n",
    "                \n",
    "            if g.vertex_by_id(gen_b) is None:\n",
    "                v = g.add_vertex_by_id(gen_b)\n",
    "                v['color'] = 0xff0000\n",
    "                # v_color[v] = \"red\"\n",
    "                \n",
    "            g.add_edge_by_ids(gen_a, gen_b)\n",
    "\n",
    "            # Para nao repetir criacao de aresta\n",
    "            matriz_gen.loc[gen_b, gen_a] = 0\n",
    "            matriz_gen.loc[gen_a, gen_b] = 0\n",
    "\n",
    "            df.sum(axis=1, numeric_only=True)\n",
    "\n"
   ]
  },
  {
   "cell_type": "code",
   "execution_count": 48,
   "metadata": {
    "execution": {
     "iopub.execute_input": "2025-05-18T19:53:12.345863Z",
     "iopub.status.busy": "2025-05-18T19:53:12.345631Z",
     "iopub.status.idle": "2025-05-18T19:53:12.418142Z",
     "shell.execute_reply": "2025-05-18T19:53:12.417492Z",
     "shell.execute_reply.started": "2025-05-18T19:53:12.345849Z"
    }
   },
   "outputs": [],
   "source": [
    "genero = []\n",
    "generos_degree = {}\n",
    "\n",
    "for idx, row in df_recente.iterrows():\n",
    "    filme = row['names']\n",
    "    revenue = row['revenue']\n",
    "    for ga in row['genre'].split(','):\n",
    "        g_limpo = ga.strip()\n",
    "        if g_limpo not in generos_degree:\n",
    "            generos_degree[g_limpo] = { 'degree': 0,  'revenue': 0}\n",
    "        generos_degree[g_limpo]['degree'] += 1\n",
    "        generos_degree[g_limpo]['revenue'] += revenue\n",
    "        genero.append(g_limpo)\n",
    "        g.add_edge_by_ids(filme, g_limpo)"
   ]
  },
  {
   "cell_type": "code",
   "execution_count": 20,
   "metadata": {
    "execution": {
     "iopub.execute_input": "2025-05-14T21:48:04.441891Z",
     "iopub.status.busy": "2025-05-14T21:48:04.441785Z",
     "iopub.status.idle": "2025-05-14T21:48:05.613129Z",
     "shell.execute_reply": "2025-05-14T21:48:05.612440Z",
     "shell.execute_reply.started": "2025-05-14T21:48:04.441882Z"
    }
   },
   "outputs": [],
   "source": [
    "layout = draw.sfdp_layout(g)\n",
    "\n",
    "gte.move(g, layout)"
   ]
  },
  {
   "cell_type": "code",
   "execution_count": 21,
   "metadata": {
    "execution": {
     "iopub.execute_input": "2025-05-14T21:48:05.613757Z",
     "iopub.status.busy": "2025-05-14T21:48:05.613637Z",
     "iopub.status.idle": "2025-05-14T21:48:05.616789Z",
     "shell.execute_reply": "2025-05-14T21:48:05.616368Z",
     "shell.execute_reply.started": "2025-05-14T21:48:05.613746Z"
    }
   },
   "outputs": [
    {
     "name": "stdout",
     "output_type": "stream",
     "text": [
      "Número de vértices: 707\n",
      "Número de arestas: 1880\n"
     ]
    }
   ],
   "source": [
    "print(\"Número de vértices:\", g.num_vertices())\n",
    "print(\"Número de arestas:\", g.num_edges())"
   ]
  },
  {
   "cell_type": "code",
   "execution_count": 22,
   "metadata": {
    "execution": {
     "iopub.execute_input": "2025-05-14T21:48:05.617533Z",
     "iopub.status.busy": "2025-05-14T21:48:05.617429Z",
     "iopub.status.idle": "2025-05-14T21:48:05.686888Z",
     "shell.execute_reply": "2025-05-14T21:48:05.686357Z",
     "shell.execute_reply.started": "2025-05-14T21:48:05.617524Z"
    },
    "scrolled": true
   },
   "outputs": [
    {
     "data": {
      "text/html": [
       "\n",
       "        <div id=\"S2FMJd6nfQ3FycereVYg6M\"></div>\n",
       "        <script>netpixi.render('S2FMJd6nfQ3FycereVYg6M', '/static/__shared__/imdb.net.gz', 1.7777777777777777, true, false, false, true);</script>\n",
       "    "
      ],
      "text/plain": [
       "<IPython.core.display.HTML object>"
      ]
     },
     "metadata": {},
     "output_type": "display_data"
    }
   ],
   "source": [
    "gte.save(g, 'imdb.net.gz')\n",
    "\n",
    "r = netpixi.render('imdb.net.gz');\n",
    "# r.vertex_scale('genre', 1, 5)"
   ]
  },
  {
   "cell_type": "code",
   "execution_count": 23,
   "metadata": {
    "execution": {
     "iopub.execute_input": "2025-05-14T21:48:05.687379Z",
     "iopub.status.busy": "2025-05-14T21:48:05.687254Z",
     "iopub.status.idle": "2025-05-14T21:48:05.691687Z",
     "shell.execute_reply": "2025-05-14T21:48:05.691361Z",
     "shell.execute_reply.started": "2025-05-14T21:48:05.687369Z"
    }
   },
   "outputs": [
    {
     "data": {
      "text/html": [
       "\n",
       "        <div id=\"GzbXvXJNYUrgfG2HqVS8Ft\"></div>\n",
       "        <script>netpixi.call('GzbXvXJNYUrgfG2HqVS8Ft', 'S2FMJd6nfQ3FycereVYg6M', 'changeGraph', 'eyJ0eXBlIjogInNldHRpbmdzIiwgInByb3BzIjogeyJ2ZXJ0ZXgiOiB7InNpemUiOiAyMCwgImNvbG9yIjogMTY3MTE2ODAsICJid2lkdGgiOiAyLCAiYmNvbG9yIjogMH19fQo=');</script>\n",
       "    "
      ],
      "text/plain": [
       "<IPython.core.display.HTML object>"
      ]
     },
     "metadata": {},
     "output_type": "display_data"
    },
    {
     "data": {
      "text/html": [
       "\n",
       "        <div id=\"Poy6eDspKhiUGZRXtVD99v\"></div>\n",
       "        <script>netpixi.call('Poy6eDspKhiUGZRXtVD99v', 'S2FMJd6nfQ3FycereVYg6M', 'changeGraph', 'eyJ0eXBlIjogInNldHRpbmdzIiwgInByb3BzIjogeyJlZGdlIjogeyJ3aWR0aCI6IDIsICJjb2xvciI6IDc4Mjk1MDMsICJjdXJ2ZTEiOiAwLCAiY3VydmUyIjogMH19fQo=');</script>\n",
       "    "
      ],
      "text/plain": [
       "<IPython.core.display.HTML object>"
      ]
     },
     "metadata": {},
     "output_type": "display_data"
    }
   ],
   "source": [
    "r.vertex_default(\n",
    "    size=20,         # tamanho            (padrão: 16)\n",
    "    color=0xff0000,  # cor                (padrão: 0xffffff)\n",
    "    bwidth=2,        # espessura da borda (padrão: 2)\n",
    "    bcolor=0x000000, # cor da borda       (padrão: 0x3f3f3f)\n",
    ")\n",
    "\n",
    "r.edge_default(\n",
    "    width=2,        # espessura         (padrão: 2)\n",
    "    color=0x7777ff, # cor               (padrão: 0xffffff)\n",
    "    curve1=0,       # curvatura inicial (padrão: 0)\n",
    "    curve2=0,       # curvatura final   (padrão: 0)nalogamente, para atribuir características visuais às arestas, podemos chamanalogamente, para atribuir características visuais às arestas, podemos chama\n",
    ")\n"
   ]
  },
  {
   "cell_type": "markdown",
   "metadata": {},
   "source": [
    "## Degree (Híbrida)"
   ]
  },
  {
   "cell_type": "code",
   "execution_count": 24,
   "metadata": {
    "execution": {
     "iopub.execute_input": "2025-05-14T21:48:05.692118Z",
     "iopub.status.busy": "2025-05-14T21:48:05.692020Z",
     "iopub.status.idle": "2025-05-14T21:48:05.777122Z",
     "shell.execute_reply": "2025-05-14T21:48:05.776413Z",
     "shell.execute_reply.started": "2025-05-14T21:48:05.692110Z"
    }
   },
   "outputs": [],
   "source": [
    "g_deg_hibrid = g\n",
    "\n",
    "c = gte.total_degree(g_deg_hibrid)\n",
    "g_deg_hibrid.add_vp('degree', c)\n",
    "gte.save(g_deg_hibrid, 'degree_hib.net.gz')"
   ]
  },
  {
   "cell_type": "code",
   "execution_count": 32,
   "metadata": {
    "execution": {
     "iopub.execute_input": "2025-05-14T21:48:09.909202Z",
     "iopub.status.busy": "2025-05-14T21:48:09.908584Z",
     "iopub.status.idle": "2025-05-14T21:48:09.917958Z",
     "shell.execute_reply": "2025-05-14T21:48:09.916032Z",
     "shell.execute_reply.started": "2025-05-14T21:48:09.909158Z"
    }
   },
   "outputs": [],
   "source": [
    "# r_hib = netpixi.render('degree_hib.net.gz')"
   ]
  },
  {
   "cell_type": "code",
   "execution_count": 26,
   "metadata": {
    "execution": {
     "iopub.execute_input": "2025-05-14T21:48:05.782060Z",
     "iopub.status.busy": "2025-05-14T21:48:05.781953Z",
     "iopub.status.idle": "2025-05-14T21:48:05.793720Z",
     "shell.execute_reply": "2025-05-14T21:48:05.793358Z",
     "shell.execute_reply.started": "2025-05-14T21:48:05.782052Z"
    }
   },
   "outputs": [
    {
     "data": {
      "text/html": [
       "\n",
       "        <div id=\"M6tYK8tQtbN3aEN9QpNMjA\"></div>\n",
       "        <script>netpixi.call('M6tYK8tQtbN3aEN9QpNMjA', 'Qezq4U29B5vyss3u5PSHDR', 'normalizeGraph', 'eyJ0eXBlIjogInZlcnRleCIsICJwcm9wcyI6IHsic3JjIjogImRlZ3JlZSIsICJtaW4iOiAxMCwgIm1heCI6IDM1fX0K');</script>\n",
       "    "
      ],
      "text/plain": [
       "<IPython.core.display.HTML object>"
      ]
     },
     "metadata": {},
     "output_type": "display_data"
    },
    {
     "data": {
      "text/html": [
       "\n",
       "        <div id=\"kWWabUC8tkeTZ2XzzPbM3T\"></div>\n",
       "        <script>netpixi.call('kWWabUC8tkeTZ2XzzPbM3T', 'Qezq4U29B5vyss3u5PSHDR', 'changeGraph', 'eyJ0eXBlIjogInNldHRpbmdzIiwgInByb3BzIjogeyJ2ZXJ0ZXgiOiB7InNpemUiOiAyMCwgImNvbG9yIjogMTY3MTE2ODAsICJid2lkdGgiOiAyLCAiYmNvbG9yIjogMH19fQo=');</script>\n",
       "    "
      ],
      "text/plain": [
       "<IPython.core.display.HTML object>"
      ]
     },
     "metadata": {},
     "output_type": "display_data"
    },
    {
     "data": {
      "text/html": [
       "\n",
       "        <div id=\"ajxNih9DVjhaLyEKA99xct\"></div>\n",
       "        <script>netpixi.call('ajxNih9DVjhaLyEKA99xct', 'Qezq4U29B5vyss3u5PSHDR', 'changeGraph', 'eyJ0eXBlIjogInNldHRpbmdzIiwgInByb3BzIjogeyJlZGdlIjogeyJ3aWR0aCI6IDIsICJjb2xvciI6IDc4Mjk1MDMsICJjdXJ2ZTEiOiAwLCAiY3VydmUyIjogMH19fQo=');</script>\n",
       "    "
      ],
      "text/plain": [
       "<IPython.core.display.HTML object>"
      ]
     },
     "metadata": {},
     "output_type": "display_data"
    }
   ],
   "source": [
    "r_hib.vertex_scale('degree', 10, 35)\n",
    "\n",
    "r_hib.vertex_default(\n",
    "    size=20,         # tamanho            (padrão: 16)\n",
    "    color=0xff0000,  # cor                (padrão: 0xffffff)\n",
    "    bwidth=2,        # espessura da borda (padrão: 2)\n",
    "    bcolor=0x000000, # cor da borda       (padrão: 0x3f3f3f)\n",
    ")\n",
    "\n",
    "r_hib.edge_default(\n",
    "    width=2,        # espessura         (padrão: 2)\n",
    "    color=0x7777ff, # cor               (padrão: 0xffffff)\n",
    "    curve1=0,       # curvatura inicial (padrão: 0)\n",
    "    curve2=0,       # curvatura final   (padrão: 0)nalogamente, para atribuir características visuais às arestas, podemos chamanalogamente, para atribuir características visuais às arestas, podemos chama\n",
    ")"
   ]
  },
  {
   "cell_type": "code",
   "execution_count": 27,
   "metadata": {
    "execution": {
     "iopub.execute_input": "2025-05-14T21:48:05.795038Z",
     "iopub.status.busy": "2025-05-14T21:48:05.794746Z",
     "iopub.status.idle": "2025-05-14T21:48:06.836008Z",
     "shell.execute_reply": "2025-05-14T21:48:06.835392Z",
     "shell.execute_reply.started": "2025-05-14T21:48:05.795025Z"
    }
   },
   "outputs": [],
   "source": [
    "g_ego = g\n",
    "c = gte.burt_constraint(g_ego)\n",
    "g_ego.add_vp('burt_constraint', c)\n",
    "gte.save(g_ego, 'structural_holes.net.gz')"
   ]
  },
  {
   "cell_type": "code",
   "execution_count": 33,
   "metadata": {
    "execution": {
     "iopub.execute_input": "2025-05-14T21:48:12.220837Z",
     "iopub.status.busy": "2025-05-14T21:48:12.220411Z",
     "iopub.status.idle": "2025-05-14T21:48:12.226518Z",
     "shell.execute_reply": "2025-05-14T21:48:12.225568Z",
     "shell.execute_reply.started": "2025-05-14T21:48:12.220807Z"
    }
   },
   "outputs": [],
   "source": [
    "# r_ego = netpixi.render('structural_holes.net.gz')"
   ]
  },
  {
   "cell_type": "code",
   "execution_count": 29,
   "metadata": {
    "execution": {
     "iopub.execute_input": "2025-05-14T21:48:06.841225Z",
     "iopub.status.busy": "2025-05-14T21:48:06.841130Z",
     "iopub.status.idle": "2025-05-14T21:48:06.852076Z",
     "shell.execute_reply": "2025-05-14T21:48:06.851365Z",
     "shell.execute_reply.started": "2025-05-14T21:48:06.841216Z"
    }
   },
   "outputs": [
    {
     "data": {
      "text/html": [
       "\n",
       "        <div id=\"JRqVcycpCA4vUQkV5ZyiHU\"></div>\n",
       "        <script>netpixi.call('JRqVcycpCA4vUQkV5ZyiHU', '2LDW7upmxebEuHJKvMoLgv', 'normalizeGraph', 'eyJ0eXBlIjogInZlcnRleCIsICJwcm9wcyI6IHsic3JjIjogImJ1cnRfY29uc3RyYWludCIsICJtaW4iOiAxMCwgIm1heCI6IDMwfX0K');</script>\n",
       "    "
      ],
      "text/plain": [
       "<IPython.core.display.HTML object>"
      ]
     },
     "metadata": {},
     "output_type": "display_data"
    }
   ],
   "source": [
    "r_ego.vertex_scale('burt_constraint', 10, 30)"
   ]
  },
  {
   "cell_type": "code",
   "execution_count": 30,
   "metadata": {
    "execution": {
     "iopub.execute_input": "2025-05-14T21:48:06.852636Z",
     "iopub.status.busy": "2025-05-14T21:48:06.852527Z",
     "iopub.status.idle": "2025-05-14T21:48:06.862651Z",
     "shell.execute_reply": "2025-05-14T21:48:06.862381Z",
     "shell.execute_reply.started": "2025-05-14T21:48:06.852628Z"
    }
   },
   "outputs": [
    {
     "data": {
      "text/html": [
       "\n",
       "        <div id=\"jAhQqgJJTyQXmB63uGnth3\"></div>\n",
       "        <script>netpixi.call('jAhQqgJJTyQXmB63uGnth3', '2LDW7upmxebEuHJKvMoLgv', 'changeGraph', 'eyJ0eXBlIjogInNldHRpbmdzIiwgInByb3BzIjogeyJ2ZXJ0ZXgiOiB7InNpemUiOiAyMCwgImNvbG9yIjogMTY3MTE2ODAsICJid2lkdGgiOiAyLCAiYmNvbG9yIjogMH19fQo=');</script>\n",
       "    "
      ],
      "text/plain": [
       "<IPython.core.display.HTML object>"
      ]
     },
     "metadata": {},
     "output_type": "display_data"
    },
    {
     "data": {
      "text/html": [
       "\n",
       "        <div id=\"nE8bP6UmpXZbS2nFybCEuB\"></div>\n",
       "        <script>netpixi.call('nE8bP6UmpXZbS2nFybCEuB', '2LDW7upmxebEuHJKvMoLgv', 'changeGraph', 'eyJ0eXBlIjogInNldHRpbmdzIiwgInByb3BzIjogeyJlZGdlIjogeyJ3aWR0aCI6IDIsICJjb2xvciI6IDc4Mjk1MDMsICJjdXJ2ZTEiOiAwLCAiY3VydmUyIjogMH19fQo=');</script>\n",
       "    "
      ],
      "text/plain": [
       "<IPython.core.display.HTML object>"
      ]
     },
     "metadata": {},
     "output_type": "display_data"
    }
   ],
   "source": [
    "r_ego.vertex_default(\n",
    "    size=20,         # tamanho            (padrão: 16)\n",
    "    color=0xff0000,  # cor                (padrão: 0xffffff)\n",
    "    bwidth=2,        # espessura da borda (padrão: 2)\n",
    "    bcolor=0x000000, # cor da borda       (padrão: 0x3f3f3f)\n",
    ")\n",
    "\n",
    "r_ego.edge_default(\n",
    "    width=2,        # espessura         (padrão: 2)\n",
    "    color=0x7777ff, # cor               (padrão: 0xffffff)\n",
    "    curve1=0,       # curvatura inicial (padrão: 0)\n",
    "    curve2=0,       # curvatura final   (padrão: 0)nalogamente, para atribuir características visuais às arestas, podemos chamanalogamente, para atribuir características visuais às arestas, podemos chama\n",
    ")"
   ]
  },
  {
   "cell_type": "markdown",
   "metadata": {},
   "source": [
    "# Modelo Baseline - Variaveis de Controle"
   ]
  },
  {
   "cell_type": "code",
   "execution_count": 96,
   "metadata": {
    "execution": {
     "iopub.execute_input": "2025-05-18T20:45:08.990096Z",
     "iopub.status.busy": "2025-05-18T20:45:08.989859Z",
     "iopub.status.idle": "2025-05-18T20:45:09.000665Z",
     "shell.execute_reply": "2025-05-18T20:45:09.000293Z",
     "shell.execute_reply.started": "2025-05-18T20:45:08.990081Z"
    }
   },
   "outputs": [
    {
     "data": {
      "text/html": [
       "<style type=\"text/css\">\n",
       "</style>\n",
       "<table id=\"T_26eaf\">\n",
       "  <thead>\n",
       "    <tr>\n",
       "      <th id=\"T_26eaf_level0_col0\" class=\"col_heading level0 col0\" >variable</th>\n",
       "      <th id=\"T_26eaf_level0_col1\" class=\"col_heading level0 col1\" >coefficient</th>\n",
       "      <th id=\"T_26eaf_level0_col2\" class=\"col_heading level0 col2\" >std error</th>\n",
       "      <th id=\"T_26eaf_level0_col3\" class=\"col_heading level0 col3\" >p-value</th>\n",
       "    </tr>\n",
       "  </thead>\n",
       "  <tbody>\n",
       "    <tr>\n",
       "      <td id=\"T_26eaf_row0_col0\" class=\"data row0 col0\" >degree</td>\n",
       "      <td id=\"T_26eaf_row0_col1\" class=\"data row0 col1\" >365942372.377056</td>\n",
       "      <td id=\"T_26eaf_row0_col2\" class=\"data row0 col2\" >18801674.198312</td>\n",
       "      <td id=\"T_26eaf_row0_col3\" class=\"data row0 col3\" >0.000000</td>\n",
       "    </tr>\n",
       "  </tbody>\n",
       "</table>\n"
      ],
      "text/plain": [
       "<pandas.io.formats.style.Styler at 0x7fb02211a490>"
      ]
     },
     "execution_count": 96,
     "metadata": {},
     "output_type": "execute_result"
    }
   ],
   "source": [
    "import regression as reg\n",
    "\n",
    "# revenue ~ degree\n",
    "# revenue ~ degree + restricao\n",
    "\n",
    "genero = []\n",
    "degree = []\n",
    "revenue = []\n",
    "\n",
    "for gen, v in generos_degree.items():\n",
    "    genero.append(gen)\n",
    "    degree.append(v['degree'])\n",
    "    revenue.append(v['revenue'])\n",
    "\n",
    "dic_aux = { 'genero': genero, \n",
    "            'degree': degree,\n",
    "            'revenue': revenue\n",
    "          }\n",
    "\n",
    "df_genero_deg = pd.DataFrame(dic_aux)\n",
    "df_genero_deg.head()\n",
    "\n",
    "result = reg.linear(data=df_genero_deg, formula='revenue ~ degree')\n",
    "result.micro_summary()"
   ]
  },
  {
   "cell_type": "code",
   "execution_count": 97,
   "metadata": {
    "execution": {
     "iopub.execute_input": "2025-05-18T20:45:09.615175Z",
     "iopub.status.busy": "2025-05-18T20:45:09.614865Z",
     "iopub.status.idle": "2025-05-18T20:45:09.624763Z",
     "shell.execute_reply": "2025-05-18T20:45:09.624271Z",
     "shell.execute_reply.started": "2025-05-18T20:45:09.615163Z"
    }
   },
   "outputs": [
    {
     "name": "stderr",
     "output_type": "stream",
     "text": [
      "/opt/miniconda/envs/jupyterlab/lib/python3.13/site-packages/scipy/stats/_axis_nan_policy.py:430: UserWarning: `kurtosistest` p-value may be inaccurate with fewer than 20 observations; only n=19 observations were given.\n",
      "  return hypotest_fun_in(*args, **kwds)\n"
     ]
    },
    {
     "data": {
      "text/html": [
       "<table class=\"simpletable\">\n",
       "<caption>OLS Regression Results</caption>\n",
       "<tr>\n",
       "  <th>Dep. Variable:</th>         <td>revenue</td>     <th>  R-squared:         </th> <td>   0.957</td>\n",
       "</tr>\n",
       "<tr>\n",
       "  <th>Model:</th>                   <td>OLS</td>       <th>  Adj. R-squared:    </th> <td>   0.955</td>\n",
       "</tr>\n",
       "<tr>\n",
       "  <th>Method:</th>             <td>Least Squares</td>  <th>  F-statistic:       </th> <td>   378.8</td>\n",
       "</tr>\n",
       "<tr>\n",
       "  <th>Date:</th>             <td>Sun, 18 May 2025</td> <th>  Prob (F-statistic):</th> <td>4.67e-13</td>\n",
       "</tr>\n",
       "<tr>\n",
       "  <th>Time:</th>                 <td>20:45:09</td>     <th>  Log-Likelihood:    </th> <td> -453.39</td>\n",
       "</tr>\n",
       "<tr>\n",
       "  <th>No. Observations:</th>      <td>    19</td>      <th>  AIC:               </th> <td>   910.8</td>\n",
       "</tr>\n",
       "<tr>\n",
       "  <th>Df Residuals:</th>          <td>    17</td>      <th>  BIC:               </th> <td>   912.7</td>\n",
       "</tr>\n",
       "<tr>\n",
       "  <th>Df Model:</th>              <td>     1</td>      <th>                     </th>     <td> </td>   \n",
       "</tr>\n",
       "<tr>\n",
       "  <th>Covariance Type:</th>      <td>nonrobust</td>    <th>                     </th>     <td> </td>   \n",
       "</tr>\n",
       "</table>\n",
       "<table class=\"simpletable\">\n",
       "<tr>\n",
       "      <td></td>         <th>coef</th>     <th>std err</th>      <th>t</th>      <th>P>|t|</th>  <th>[0.025</th>    <th>0.975]</th>  \n",
       "</tr>\n",
       "<tr>\n",
       "  <th>Intercept</th> <td>  2.61e+09</td> <td>  2.2e+09</td> <td>    1.186</td> <td> 0.252</td> <td>-2.03e+09</td> <td> 7.25e+09</td>\n",
       "</tr>\n",
       "<tr>\n",
       "  <th>degree</th>    <td> 3.659e+08</td> <td> 1.88e+07</td> <td>   19.463</td> <td> 0.000</td> <td> 3.26e+08</td> <td> 4.06e+08</td>\n",
       "</tr>\n",
       "</table>\n",
       "<table class=\"simpletable\">\n",
       "<tr>\n",
       "  <th>Omnibus:</th>       <td> 7.561</td> <th>  Durbin-Watson:     </th> <td>   2.026</td>\n",
       "</tr>\n",
       "<tr>\n",
       "  <th>Prob(Omnibus):</th> <td> 0.023</td> <th>  Jarque-Bera (JB):  </th> <td>   4.952</td>\n",
       "</tr>\n",
       "<tr>\n",
       "  <th>Skew:</th>          <td> 1.166</td> <th>  Prob(JB):          </th> <td>  0.0841</td>\n",
       "</tr>\n",
       "<tr>\n",
       "  <th>Kurtosis:</th>      <td> 3.902</td> <th>  Cond. No.          </th> <td>    190.</td>\n",
       "</tr>\n",
       "</table><br/><br/>Notes:<br/>[1] Standard Errors assume that the covariance matrix of the errors is correctly specified."
      ],
      "text/latex": [
       "\\begin{center}\n",
       "\\begin{tabular}{lclc}\n",
       "\\toprule\n",
       "\\textbf{Dep. Variable:}    &     revenue      & \\textbf{  R-squared:         } &     0.957   \\\\\n",
       "\\textbf{Model:}            &       OLS        & \\textbf{  Adj. R-squared:    } &     0.955   \\\\\n",
       "\\textbf{Method:}           &  Least Squares   & \\textbf{  F-statistic:       } &     378.8   \\\\\n",
       "\\textbf{Date:}             & Sun, 18 May 2025 & \\textbf{  Prob (F-statistic):} &  4.67e-13   \\\\\n",
       "\\textbf{Time:}             &     20:45:09     & \\textbf{  Log-Likelihood:    } &   -453.39   \\\\\n",
       "\\textbf{No. Observations:} &          19      & \\textbf{  AIC:               } &     910.8   \\\\\n",
       "\\textbf{Df Residuals:}     &          17      & \\textbf{  BIC:               } &     912.7   \\\\\n",
       "\\textbf{Df Model:}         &           1      & \\textbf{                     } &             \\\\\n",
       "\\textbf{Covariance Type:}  &    nonrobust     & \\textbf{                     } &             \\\\\n",
       "\\bottomrule\n",
       "\\end{tabular}\n",
       "\\begin{tabular}{lcccccc}\n",
       "                   & \\textbf{coef} & \\textbf{std err} & \\textbf{t} & \\textbf{P$> |$t$|$} & \\textbf{[0.025} & \\textbf{0.975]}  \\\\\n",
       "\\midrule\n",
       "\\textbf{Intercept} &     2.61e+09  &      2.2e+09     &     1.186  &         0.252        &    -2.03e+09    &     7.25e+09     \\\\\n",
       "\\textbf{degree}    &    3.659e+08  &     1.88e+07     &    19.463  &         0.000        &     3.26e+08    &     4.06e+08     \\\\\n",
       "\\bottomrule\n",
       "\\end{tabular}\n",
       "\\begin{tabular}{lclc}\n",
       "\\textbf{Omnibus:}       &  7.561 & \\textbf{  Durbin-Watson:     } &    2.026  \\\\\n",
       "\\textbf{Prob(Omnibus):} &  0.023 & \\textbf{  Jarque-Bera (JB):  } &    4.952  \\\\\n",
       "\\textbf{Skew:}          &  1.166 & \\textbf{  Prob(JB):          } &   0.0841  \\\\\n",
       "\\textbf{Kurtosis:}      &  3.902 & \\textbf{  Cond. No.          } &     190.  \\\\\n",
       "\\bottomrule\n",
       "\\end{tabular}\n",
       "%\\caption{OLS Regression Results}\n",
       "\\end{center}\n",
       "\n",
       "Notes: \\newline\n",
       " [1] Standard Errors assume that the covariance matrix of the errors is correctly specified."
      ],
      "text/plain": [
       "<class 'statsmodels.iolib.summary.Summary'>\n",
       "\"\"\"\n",
       "                            OLS Regression Results                            \n",
       "==============================================================================\n",
       "Dep. Variable:                revenue   R-squared:                       0.957\n",
       "Model:                            OLS   Adj. R-squared:                  0.955\n",
       "Method:                 Least Squares   F-statistic:                     378.8\n",
       "Date:                Sun, 18 May 2025   Prob (F-statistic):           4.67e-13\n",
       "Time:                        20:45:09   Log-Likelihood:                -453.39\n",
       "No. Observations:                  19   AIC:                             910.8\n",
       "Df Residuals:                      17   BIC:                             912.7\n",
       "Df Model:                           1                                         \n",
       "Covariance Type:            nonrobust                                         \n",
       "==============================================================================\n",
       "                 coef    std err          t      P>|t|      [0.025      0.975]\n",
       "------------------------------------------------------------------------------\n",
       "Intercept    2.61e+09    2.2e+09      1.186      0.252   -2.03e+09    7.25e+09\n",
       "degree      3.659e+08   1.88e+07     19.463      0.000    3.26e+08    4.06e+08\n",
       "==============================================================================\n",
       "Omnibus:                        7.561   Durbin-Watson:                   2.026\n",
       "Prob(Omnibus):                  0.023   Jarque-Bera (JB):                4.952\n",
       "Skew:                           1.166   Prob(JB):                       0.0841\n",
       "Kurtosis:                       3.902   Cond. No.                         190.\n",
       "==============================================================================\n",
       "\n",
       "Notes:\n",
       "[1] Standard Errors assume that the covariance matrix of the errors is correctly specified.\n",
       "\"\"\""
      ]
     },
     "execution_count": 97,
     "metadata": {},
     "output_type": "execute_result"
    }
   ],
   "source": [
    "result.summary()"
   ]
  },
  {
   "cell_type": "code",
   "execution_count": 98,
   "metadata": {
    "execution": {
     "iopub.execute_input": "2025-05-18T20:45:10.954009Z",
     "iopub.status.busy": "2025-05-18T20:45:10.953791Z",
     "iopub.status.idle": "2025-05-18T20:45:11.051759Z",
     "shell.execute_reply": "2025-05-18T20:45:11.051255Z",
     "shell.execute_reply.started": "2025-05-18T20:45:10.953998Z"
    }
   },
   "outputs": [
    {
     "data": {
      "image/png": "[encoded data removed]",
      "text/plain": [
       "<Figure size 1280x480 with 2 Axes>"
      ]
     },
     "metadata": {},
     "output_type": "display_data"
    }
   ],
   "source": [
    "result.plot_residuals()"
   ]
  },
  {
   "cell_type": "markdown",
   "metadata": {},
   "source": [
    "## Modelo Completo"
   ]
  },
  {
   "cell_type": "code",
   "execution_count": 99,
   "metadata": {
    "execution": {
     "iopub.execute_input": "2025-05-18T20:46:50.852704Z",
     "iopub.status.busy": "2025-05-18T20:46:50.852503Z",
     "iopub.status.idle": "2025-05-18T20:46:50.873673Z",
     "shell.execute_reply": "2025-05-18T20:46:50.873197Z",
     "shell.execute_reply.started": "2025-05-18T20:46:50.852690Z"
    }
   },
   "outputs": [
    {
     "data": {
      "text/html": [
       "<style type=\"text/css\">\n",
       "</style>\n",
       "<table id=\"T_48d5b\">\n",
       "  <thead>\n",
       "    <tr>\n",
       "      <th id=\"T_48d5b_level0_col0\" class=\"col_heading level0 col0\" >variable</th>\n",
       "      <th id=\"T_48d5b_level0_col1\" class=\"col_heading level0 col1\" >coefficient</th>\n",
       "      <th id=\"T_48d5b_level0_col2\" class=\"col_heading level0 col2\" >std error</th>\n",
       "      <th id=\"T_48d5b_level0_col3\" class=\"col_heading level0 col3\" >p-value</th>\n",
       "    </tr>\n",
       "  </thead>\n",
       "  <tbody>\n",
       "    <tr>\n",
       "      <td id=\"T_48d5b_row0_col0\" class=\"data row0 col0\" >degree</td>\n",
       "      <td id=\"T_48d5b_row0_col1\" class=\"data row0 col1\" >366758210.949117</td>\n",
       "      <td id=\"T_48d5b_row0_col2\" class=\"data row0 col2\" >17700214.717333</td>\n",
       "      <td id=\"T_48d5b_row0_col3\" class=\"data row0 col3\" >0.000000</td>\n",
       "    </tr>\n",
       "    <tr>\n",
       "      <td id=\"T_48d5b_row1_col0\" class=\"data row1 col0\" >restricao</td>\n",
       "      <td id=\"T_48d5b_row1_col1\" class=\"data row1 col1\" >-3721956886.702446</td>\n",
       "      <td id=\"T_48d5b_row1_col2\" class=\"data row1 col2\" >2082470356.480893</td>\n",
       "      <td id=\"T_48d5b_row1_col3\" class=\"data row1 col3\" >0.092849</td>\n",
       "    </tr>\n",
       "  </tbody>\n",
       "</table>\n"
      ],
      "text/plain": [
       "<pandas.io.formats.style.Styler at 0x7fb026794050>"
      ]
     },
     "execution_count": 99,
     "metadata": {},
     "output_type": "execute_result"
    }
   ],
   "source": [
    "generos_restricao = {}\n",
    "\n",
    "for idx, row in df_recente.iterrows():\n",
    "    lista_generos = [g.strip() for g in row['genre'].split(',')]\n",
    "    num_generos_filme = len(lista_generos)\n",
    "\n",
    "    for g in lista_generos:\n",
    "        if g not in generos_restricao:\n",
    "            generos_restricao[g] = []\n",
    "        generos_restricao[g].append(num_generos_filme)\n",
    "\n",
    "restricao = {g: sum(v) / len(v) for g, v in generos_restricao.items()}\n",
    "# print(restricao)\n",
    "\n",
    "restricao_l = [0 for i in range(len(genero))]\n",
    "# print(restricao_l)\n",
    "\n",
    "for ga, v in restricao.items():\n",
    "    g_index = genero.index(ga) # Pega qual index o genero ta\n",
    "    restricao_l[g_index] = v\n",
    "\n",
    "dic_aux['restricao'] = restricao_l\n",
    "# print(dic_aux)\n",
    "\n",
    "df_genero_rest = pd.DataFrame(dic_aux)\n",
    "df_genero_rest.head()\n",
    "\n",
    "result = reg.linear(data=df_genero_rest, formula='revenue ~ degree + restricao')\n",
    "result.micro_summary()"
   ]
  },
  {
   "cell_type": "code",
   "execution_count": 100,
   "metadata": {
    "execution": {
     "iopub.execute_input": "2025-05-18T20:46:51.366723Z",
     "iopub.status.busy": "2025-05-18T20:46:51.366326Z",
     "iopub.status.idle": "2025-05-18T20:46:51.380674Z",
     "shell.execute_reply": "2025-05-18T20:46:51.380266Z",
     "shell.execute_reply.started": "2025-05-18T20:46:51.366696Z"
    }
   },
   "outputs": [
    {
     "name": "stderr",
     "output_type": "stream",
     "text": [
      "/opt/miniconda/envs/jupyterlab/lib/python3.13/site-packages/scipy/stats/_axis_nan_policy.py:430: UserWarning: `kurtosistest` p-value may be inaccurate with fewer than 20 observations; only n=19 observations were given.\n",
      "  return hypotest_fun_in(*args, **kwds)\n"
     ]
    },
    {
     "data": {
      "text/html": [
       "<table class=\"simpletable\">\n",
       "<caption>OLS Regression Results</caption>\n",
       "<tr>\n",
       "  <th>Dep. Variable:</th>         <td>revenue</td>     <th>  R-squared:         </th> <td>   0.964</td>\n",
       "</tr>\n",
       "<tr>\n",
       "  <th>Model:</th>                   <td>OLS</td>       <th>  Adj. R-squared:    </th> <td>   0.960</td>\n",
       "</tr>\n",
       "<tr>\n",
       "  <th>Method:</th>             <td>Least Squares</td>  <th>  F-statistic:       </th> <td>   215.5</td>\n",
       "</tr>\n",
       "<tr>\n",
       "  <th>Date:</th>             <td>Sun, 18 May 2025</td> <th>  Prob (F-statistic):</th> <td>2.70e-12</td>\n",
       "</tr>\n",
       "<tr>\n",
       "  <th>Time:</th>                 <td>20:46:51</td>     <th>  Log-Likelihood:    </th> <td> -451.66</td>\n",
       "</tr>\n",
       "<tr>\n",
       "  <th>No. Observations:</th>      <td>    19</td>      <th>  AIC:               </th> <td>   909.3</td>\n",
       "</tr>\n",
       "<tr>\n",
       "  <th>Df Residuals:</th>          <td>    16</td>      <th>  BIC:               </th> <td>   912.2</td>\n",
       "</tr>\n",
       "<tr>\n",
       "  <th>Df Model:</th>              <td>     2</td>      <th>                     </th>     <td> </td>   \n",
       "</tr>\n",
       "<tr>\n",
       "  <th>Covariance Type:</th>      <td>nonrobust</td>    <th>                     </th>     <td> </td>   \n",
       "</tr>\n",
       "</table>\n",
       "<table class=\"simpletable\">\n",
       "<tr>\n",
       "      <td></td>         <th>coef</th>     <th>std err</th>      <th>t</th>      <th>P>|t|</th>  <th>[0.025</th>    <th>0.975]</th>  \n",
       "</tr>\n",
       "<tr>\n",
       "  <th>Intercept</th> <td>   1.4e+10</td> <td>  6.7e+09</td> <td>    2.089</td> <td> 0.053</td> <td>-2.06e+08</td> <td> 2.82e+10</td>\n",
       "</tr>\n",
       "<tr>\n",
       "  <th>degree</th>    <td> 3.668e+08</td> <td> 1.77e+07</td> <td>   20.721</td> <td> 0.000</td> <td> 3.29e+08</td> <td> 4.04e+08</td>\n",
       "</tr>\n",
       "<tr>\n",
       "  <th>restricao</th> <td>-3.722e+09</td> <td> 2.08e+09</td> <td>   -1.787</td> <td> 0.093</td> <td>-8.14e+09</td> <td> 6.93e+08</td>\n",
       "</tr>\n",
       "</table>\n",
       "<table class=\"simpletable\">\n",
       "<tr>\n",
       "  <th>Omnibus:</th>       <td> 1.048</td> <th>  Durbin-Watson:     </th> <td>   1.468</td>\n",
       "</tr>\n",
       "<tr>\n",
       "  <th>Prob(Omnibus):</th> <td> 0.592</td> <th>  Jarque-Bera (JB):  </th> <td>   0.797</td>\n",
       "</tr>\n",
       "<tr>\n",
       "  <th>Skew:</th>          <td> 0.148</td> <th>  Prob(JB):          </th> <td>   0.671</td>\n",
       "</tr>\n",
       "<tr>\n",
       "  <th>Kurtosis:</th>      <td> 2.041</td> <th>  Cond. No.          </th> <td>    642.</td>\n",
       "</tr>\n",
       "</table><br/><br/>Notes:<br/>[1] Standard Errors assume that the covariance matrix of the errors is correctly specified."
      ],
      "text/latex": [
       "\\begin{center}\n",
       "\\begin{tabular}{lclc}\n",
       "\\toprule\n",
       "\\textbf{Dep. Variable:}    &     revenue      & \\textbf{  R-squared:         } &     0.964   \\\\\n",
       "\\textbf{Model:}            &       OLS        & \\textbf{  Adj. R-squared:    } &     0.960   \\\\\n",
       "\\textbf{Method:}           &  Least Squares   & \\textbf{  F-statistic:       } &     215.5   \\\\\n",
       "\\textbf{Date:}             & Sun, 18 May 2025 & \\textbf{  Prob (F-statistic):} &  2.70e-12   \\\\\n",
       "\\textbf{Time:}             &     20:46:51     & \\textbf{  Log-Likelihood:    } &   -451.66   \\\\\n",
       "\\textbf{No. Observations:} &          19      & \\textbf{  AIC:               } &     909.3   \\\\\n",
       "\\textbf{Df Residuals:}     &          16      & \\textbf{  BIC:               } &     912.2   \\\\\n",
       "\\textbf{Df Model:}         &           2      & \\textbf{                     } &             \\\\\n",
       "\\textbf{Covariance Type:}  &    nonrobust     & \\textbf{                     } &             \\\\\n",
       "\\bottomrule\n",
       "\\end{tabular}\n",
       "\\begin{tabular}{lcccccc}\n",
       "                   & \\textbf{coef} & \\textbf{std err} & \\textbf{t} & \\textbf{P$> |$t$|$} & \\textbf{[0.025} & \\textbf{0.975]}  \\\\\n",
       "\\midrule\n",
       "\\textbf{Intercept} &      1.4e+10  &      6.7e+09     &     2.089  &         0.053        &    -2.06e+08    &     2.82e+10     \\\\\n",
       "\\textbf{degree}    &    3.668e+08  &     1.77e+07     &    20.721  &         0.000        &     3.29e+08    &     4.04e+08     \\\\\n",
       "\\textbf{restricao} &   -3.722e+09  &     2.08e+09     &    -1.787  &         0.093        &    -8.14e+09    &     6.93e+08     \\\\\n",
       "\\bottomrule\n",
       "\\end{tabular}\n",
       "\\begin{tabular}{lclc}\n",
       "\\textbf{Omnibus:}       &  1.048 & \\textbf{  Durbin-Watson:     } &    1.468  \\\\\n",
       "\\textbf{Prob(Omnibus):} &  0.592 & \\textbf{  Jarque-Bera (JB):  } &    0.797  \\\\\n",
       "\\textbf{Skew:}          &  0.148 & \\textbf{  Prob(JB):          } &    0.671  \\\\\n",
       "\\textbf{Kurtosis:}      &  2.041 & \\textbf{  Cond. No.          } &     642.  \\\\\n",
       "\\bottomrule\n",
       "\\end{tabular}\n",
       "%\\caption{OLS Regression Results}\n",
       "\\end{center}\n",
       "\n",
       "Notes: \\newline\n",
       " [1] Standard Errors assume that the covariance matrix of the errors is correctly specified."
      ],
      "text/plain": [
       "<class 'statsmodels.iolib.summary.Summary'>\n",
       "\"\"\"\n",
       "                            OLS Regression Results                            \n",
       "==============================================================================\n",
       "Dep. Variable:                revenue   R-squared:                       0.964\n",
       "Model:                            OLS   Adj. R-squared:                  0.960\n",
       "Method:                 Least Squares   F-statistic:                     215.5\n",
       "Date:                Sun, 18 May 2025   Prob (F-statistic):           2.70e-12\n",
       "Time:                        20:46:51   Log-Likelihood:                -451.66\n",
       "No. Observations:                  19   AIC:                             909.3\n",
       "Df Residuals:                      16   BIC:                             912.2\n",
       "Df Model:                           2                                         \n",
       "Covariance Type:            nonrobust                                         \n",
       "==============================================================================\n",
       "                 coef    std err          t      P>|t|      [0.025      0.975]\n",
       "------------------------------------------------------------------------------\n",
       "Intercept     1.4e+10    6.7e+09      2.089      0.053   -2.06e+08    2.82e+10\n",
       "degree      3.668e+08   1.77e+07     20.721      0.000    3.29e+08    4.04e+08\n",
       "restricao  -3.722e+09   2.08e+09     -1.787      0.093   -8.14e+09    6.93e+08\n",
       "==============================================================================\n",
       "Omnibus:                        1.048   Durbin-Watson:                   1.468\n",
       "Prob(Omnibus):                  0.592   Jarque-Bera (JB):                0.797\n",
       "Skew:                           0.148   Prob(JB):                        0.671\n",
       "Kurtosis:                       2.041   Cond. No.                         642.\n",
       "==============================================================================\n",
       "\n",
       "Notes:\n",
       "[1] Standard Errors assume that the covariance matrix of the errors is correctly specified.\n",
       "\"\"\""
      ]
     },
     "execution_count": 100,
     "metadata": {},
     "output_type": "execute_result"
    }
   ],
   "source": [
    "result.summary()"
   ]
  },
  {
   "cell_type": "code",
   "execution_count": 101,
   "metadata": {
    "execution": {
     "iopub.execute_input": "2025-05-18T20:46:51.847523Z",
     "iopub.status.busy": "2025-05-18T20:46:51.847309Z",
     "iopub.status.idle": "2025-05-18T20:46:51.951943Z",
     "shell.execute_reply": "2025-05-18T20:46:51.951349Z",
     "shell.execute_reply.started": "2025-05-18T20:46:51.847510Z"
    }
   },
   "outputs": [
    {
     "data": {
      "image/png": "[encoded data removed]",
      "text/plain": [
       "<Figure size 1280x480 with 2 Axes>"
      ]
     },
     "metadata": {},
     "output_type": "display_data"
    }
   ],
   "source": [
    "result.plot_residuals()"
   ]
  }
 ],
 "metadata": {
  "kernelspec": {
   "display_name": "Python 3 (ipykernel)",
   "language": "python",
   "name": "python3"
  },
  "language_info": {
   "codemirror_mode": {
    "name": "ipython",
    "version": 3
   },
   "file_extension": ".py",
   "mimetype": "text/x-python",
   "name": "python",
   "nbconvert_exporter": "python",
   "pygments_lexer": "ipython3",
   "version": "3.13.1"
  }
 },
 "nbformat": 4,
 "nbformat_minor": 4
}
